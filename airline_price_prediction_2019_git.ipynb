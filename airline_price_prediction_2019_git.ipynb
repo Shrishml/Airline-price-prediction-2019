{
 "cells": [
  {
   "cell_type": "code",
   "execution_count": 1,
   "id": "fdea2153",
   "metadata": {},
   "outputs": [],
   "source": [
    "import numpy as np\n",
    "import pandas as pd\n",
    "import seaborn as sns\n",
    "import matplotlib.pyplot as plt"
   ]
  },
  {
   "cell_type": "markdown",
   "id": "61f62011",
   "metadata": {},
   "source": [
    "### Loading, Cleaning and Preprocessing data\n",
    "##### This project is to predict the price of an airline with given features like duration of flight, route, source, and destination of the flight, the total number of stops, etc.\n",
    "\n",
    "'Data_Train.xlsx' contains training data with labels (Price) and 'Test_set.xlsx' is an unlabeled testing set\n",
    "We will just work on 'Data_Train.xlsx'. We will divide the data into three-part training, validation, and testing data. We will train data with the training data, we will tune hyperparameters with validation data, and finally with testing data.\n",
    "\n"
   ]
  },
  {
   "cell_type": "code",
   "execution_count": 2,
   "id": "cacee9ae",
   "metadata": {},
   "outputs": [],
   "source": [
    "data1 = pd.read_excel('Data_Train.xlsx')"
   ]
  },
  {
   "cell_type": "code",
   "execution_count": 3,
   "id": "847a8726",
   "metadata": {
    "scrolled": true
   },
   "outputs": [
    {
     "name": "stdout",
     "output_type": "stream",
     "text": [
      "<class 'pandas.core.frame.DataFrame'>\n",
      "RangeIndex: 10683 entries, 0 to 10682\n",
      "Data columns (total 11 columns):\n",
      " #   Column           Non-Null Count  Dtype \n",
      "---  ------           --------------  ----- \n",
      " 0   Airline          10683 non-null  object\n",
      " 1   Date_of_Journey  10683 non-null  object\n",
      " 2   Source           10683 non-null  object\n",
      " 3   Destination      10683 non-null  object\n",
      " 4   Route            10682 non-null  object\n",
      " 5   Dep_Time         10683 non-null  object\n",
      " 6   Arrival_Time     10683 non-null  object\n",
      " 7   Duration         10683 non-null  object\n",
      " 8   Total_Stops      10682 non-null  object\n",
      " 9   Additional_Info  10683 non-null  object\n",
      " 10  Price            10683 non-null  int64 \n",
      "dtypes: int64(1), object(10)\n",
      "memory usage: 918.2+ KB\n"
     ]
    }
   ],
   "source": [
    "data1.info()"
   ]
  },
  {
   "cell_type": "code",
   "execution_count": 4,
   "id": "015e6502",
   "metadata": {},
   "outputs": [
    {
     "data": {
      "text/plain": [
       "Airline            0\n",
       "Date_of_Journey    0\n",
       "Source             0\n",
       "Destination        0\n",
       "Route              1\n",
       "Dep_Time           0\n",
       "Arrival_Time       0\n",
       "Duration           0\n",
       "Total_Stops        1\n",
       "Additional_Info    0\n",
       "Price              0\n",
       "dtype: int64"
      ]
     },
     "execution_count": 4,
     "metadata": {},
     "output_type": "execute_result"
    }
   ],
   "source": [
    "data1.isnull().sum()"
   ]
  },
  {
   "cell_type": "code",
   "execution_count": 5,
   "id": "9f54ca85",
   "metadata": {},
   "outputs": [],
   "source": [
    "# we just have one missing value\n",
    "data1.dropna(inplace= True)"
   ]
  },
  {
   "cell_type": "code",
   "execution_count": 6,
   "id": "73717474",
   "metadata": {},
   "outputs": [],
   "source": [
    "train_len = len(data1)  \n",
    "data2 = pd.read_excel('Test_set.xlsx')\n",
    "data= pd.concat([data1, data2], ignore_index= True) "
   ]
  },
  {
   "cell_type": "code",
   "execution_count": 7,
   "id": "e2b41654",
   "metadata": {},
   "outputs": [
    {
     "name": "stdout",
     "output_type": "stream",
     "text": [
      "<class 'pandas.core.frame.DataFrame'>\n",
      "RangeIndex: 13353 entries, 0 to 13352\n",
      "Data columns (total 11 columns):\n",
      " #   Column           Non-Null Count  Dtype  \n",
      "---  ------           --------------  -----  \n",
      " 0   Airline          13353 non-null  object \n",
      " 1   Date_of_Journey  13353 non-null  object \n",
      " 2   Source           13353 non-null  object \n",
      " 3   Destination      13353 non-null  object \n",
      " 4   Route            13353 non-null  object \n",
      " 5   Dep_Time         13353 non-null  object \n",
      " 6   Arrival_Time     13353 non-null  object \n",
      " 7   Duration         13353 non-null  object \n",
      " 8   Total_Stops      13353 non-null  object \n",
      " 9   Additional_Info  13353 non-null  object \n",
      " 10  Price            10682 non-null  float64\n",
      "dtypes: float64(1), object(10)\n",
      "memory usage: 1.1+ MB\n"
     ]
    }
   ],
   "source": [
    "data.info()"
   ]
  },
  {
   "cell_type": "code",
   "execution_count": 8,
   "id": "24fe8fce",
   "metadata": {},
   "outputs": [
    {
     "data": {
      "text/plain": [
       "Airline               0\n",
       "Date_of_Journey       0\n",
       "Source                0\n",
       "Destination           0\n",
       "Route                 0\n",
       "Dep_Time              0\n",
       "Arrival_Time          0\n",
       "Duration              0\n",
       "Total_Stops           0\n",
       "Additional_Info       0\n",
       "Price              2671\n",
       "dtype: int64"
      ]
     },
     "execution_count": 8,
     "metadata": {},
     "output_type": "execute_result"
    }
   ],
   "source": [
    "data.isnull().sum()"
   ]
  },
  {
   "cell_type": "markdown",
   "id": "74ad9191",
   "metadata": {},
   "source": [
    "#### Changing date and time columns into pandas datetime object."
   ]
  },
  {
   "cell_type": "code",
   "execution_count": 9,
   "id": "f6e5575b",
   "metadata": {},
   "outputs": [],
   "source": [
    "# here, I am combining date of journey and departure time in a single columns "
   ]
  },
  {
   "cell_type": "code",
   "execution_count": 10,
   "id": "cbebbe8e",
   "metadata": {},
   "outputs": [],
   "source": [
    "data['Date_Time'] = pd.to_datetime(data['Date_of_Journey']+' '+data['Dep_Time'], dayfirst=True)"
   ]
  },
  {
   "cell_type": "code",
   "execution_count": 11,
   "id": "36b99886",
   "metadata": {},
   "outputs": [],
   "source": [
    "# converted duration into pandas time delta format, so that it can be incorporated with \n",
    "# datetime object.\n",
    "data.Duration = pd.to_timedelta(data.Duration)"
   ]
  },
  {
   "cell_type": "code",
   "execution_count": 12,
   "id": "6692801e",
   "metadata": {},
   "outputs": [],
   "source": [
    "# Now I can drop Date_of_Journey, and Arrival_Time from the dataframe safely,\n",
    "# because they are not giving any more informaton that we already have.\n",
    "\n",
    "# Arrival_Time was also difficult to handle, now, Arrival_Time= Date_Time + duration \n",
    "\n",
    "data.drop(['Date_of_Journey', 'Arrival_Time'], axis=1, inplace= True)"
   ]
  },
  {
   "cell_type": "code",
   "execution_count": 13,
   "id": "39f0d9e4",
   "metadata": {},
   "outputs": [],
   "source": [
    " # I have to create day and month columns, because they seems to be important "
   ]
  },
  {
   "cell_type": "code",
   "execution_count": 14,
   "id": "18a08efc",
   "metadata": {},
   "outputs": [],
   "source": [
    "data['Day']= data.Date_Time.dt.day\n",
    "data['Month']= data.Date_Time.dt.month"
   ]
  },
  {
   "cell_type": "code",
   "execution_count": 15,
   "id": "a255196f",
   "metadata": {},
   "outputs": [],
   "source": [
    "# Converting departure time into float , by deviding minutes by 60 "
   ]
  },
  {
   "cell_type": "code",
   "execution_count": 16,
   "id": "769e4788",
   "metadata": {},
   "outputs": [],
   "source": [
    "data['Dep_Time']=data.Date_Time.dt.hour+data.Date_Time.dt.minute/60"
   ]
  },
  {
   "cell_type": "code",
   "execution_count": 17,
   "id": "76707de6",
   "metadata": {},
   "outputs": [],
   "source": [
    "data['Dep_Time']=data.Dep_Time.round(2)"
   ]
  },
  {
   "cell_type": "code",
   "execution_count": 18,
   "id": "d8f6993a",
   "metadata": {},
   "outputs": [],
   "source": [
    "# Converted Duration into total minutes\n",
    "data.Duration = data.Duration.dt.total_seconds()/60"
   ]
  },
  {
   "cell_type": "code",
   "execution_count": 19,
   "id": "c79f81e5",
   "metadata": {},
   "outputs": [
    {
     "data": {
      "text/plain": [
       "False"
      ]
     },
     "execution_count": 19,
     "metadata": {},
     "output_type": "execute_result"
    }
   ],
   "source": [
    "len(data[data.Date_Time.dt.year!=2019])!=0\n"
   ]
  },
  {
   "cell_type": "code",
   "execution_count": 20,
   "id": "61f470bc",
   "metadata": {},
   "outputs": [],
   "source": [
    "# all data are from 2019 only so we can also drop Date_Time column"
   ]
  },
  {
   "cell_type": "code",
   "execution_count": 21,
   "id": "9a183c2a",
   "metadata": {},
   "outputs": [
    {
     "data": {
      "text/html": [
       "<div>\n",
       "<style scoped>\n",
       "    .dataframe tbody tr th:only-of-type {\n",
       "        vertical-align: middle;\n",
       "    }\n",
       "\n",
       "    .dataframe tbody tr th {\n",
       "        vertical-align: top;\n",
       "    }\n",
       "\n",
       "    .dataframe thead th {\n",
       "        text-align: right;\n",
       "    }\n",
       "</style>\n",
       "<table border=\"1\" class=\"dataframe\">\n",
       "  <thead>\n",
       "    <tr style=\"text-align: right;\">\n",
       "      <th></th>\n",
       "      <th>Airline</th>\n",
       "      <th>Source</th>\n",
       "      <th>Destination</th>\n",
       "      <th>Route</th>\n",
       "      <th>Dep_Time</th>\n",
       "      <th>Duration</th>\n",
       "      <th>Total_Stops</th>\n",
       "      <th>Additional_Info</th>\n",
       "      <th>Price</th>\n",
       "      <th>Date_Time</th>\n",
       "      <th>Day</th>\n",
       "      <th>Month</th>\n",
       "    </tr>\n",
       "  </thead>\n",
       "  <tbody>\n",
       "    <tr>\n",
       "      <th>0</th>\n",
       "      <td>IndiGo</td>\n",
       "      <td>Banglore</td>\n",
       "      <td>New Delhi</td>\n",
       "      <td>BLR → DEL</td>\n",
       "      <td>22.33</td>\n",
       "      <td>170.0</td>\n",
       "      <td>non-stop</td>\n",
       "      <td>No info</td>\n",
       "      <td>3897.0</td>\n",
       "      <td>2019-03-24 22:20:00</td>\n",
       "      <td>24</td>\n",
       "      <td>3</td>\n",
       "    </tr>\n",
       "    <tr>\n",
       "      <th>1</th>\n",
       "      <td>Air India</td>\n",
       "      <td>Kolkata</td>\n",
       "      <td>Banglore</td>\n",
       "      <td>CCU → IXR → BBI → BLR</td>\n",
       "      <td>5.83</td>\n",
       "      <td>445.0</td>\n",
       "      <td>2 stops</td>\n",
       "      <td>No info</td>\n",
       "      <td>7662.0</td>\n",
       "      <td>2019-05-01 05:50:00</td>\n",
       "      <td>1</td>\n",
       "      <td>5</td>\n",
       "    </tr>\n",
       "    <tr>\n",
       "      <th>2</th>\n",
       "      <td>Jet Airways</td>\n",
       "      <td>Delhi</td>\n",
       "      <td>Cochin</td>\n",
       "      <td>DEL → LKO → BOM → COK</td>\n",
       "      <td>9.42</td>\n",
       "      <td>1140.0</td>\n",
       "      <td>2 stops</td>\n",
       "      <td>No info</td>\n",
       "      <td>13882.0</td>\n",
       "      <td>2019-06-09 09:25:00</td>\n",
       "      <td>9</td>\n",
       "      <td>6</td>\n",
       "    </tr>\n",
       "    <tr>\n",
       "      <th>3</th>\n",
       "      <td>IndiGo</td>\n",
       "      <td>Kolkata</td>\n",
       "      <td>Banglore</td>\n",
       "      <td>CCU → NAG → BLR</td>\n",
       "      <td>18.08</td>\n",
       "      <td>325.0</td>\n",
       "      <td>1 stop</td>\n",
       "      <td>No info</td>\n",
       "      <td>6218.0</td>\n",
       "      <td>2019-05-12 18:05:00</td>\n",
       "      <td>12</td>\n",
       "      <td>5</td>\n",
       "    </tr>\n",
       "    <tr>\n",
       "      <th>4</th>\n",
       "      <td>IndiGo</td>\n",
       "      <td>Banglore</td>\n",
       "      <td>New Delhi</td>\n",
       "      <td>BLR → NAG → DEL</td>\n",
       "      <td>16.83</td>\n",
       "      <td>285.0</td>\n",
       "      <td>1 stop</td>\n",
       "      <td>No info</td>\n",
       "      <td>13302.0</td>\n",
       "      <td>2019-03-01 16:50:00</td>\n",
       "      <td>1</td>\n",
       "      <td>3</td>\n",
       "    </tr>\n",
       "    <tr>\n",
       "      <th>...</th>\n",
       "      <td>...</td>\n",
       "      <td>...</td>\n",
       "      <td>...</td>\n",
       "      <td>...</td>\n",
       "      <td>...</td>\n",
       "      <td>...</td>\n",
       "      <td>...</td>\n",
       "      <td>...</td>\n",
       "      <td>...</td>\n",
       "      <td>...</td>\n",
       "      <td>...</td>\n",
       "      <td>...</td>\n",
       "    </tr>\n",
       "    <tr>\n",
       "      <th>13348</th>\n",
       "      <td>Air India</td>\n",
       "      <td>Kolkata</td>\n",
       "      <td>Banglore</td>\n",
       "      <td>CCU → DEL → BLR</td>\n",
       "      <td>20.50</td>\n",
       "      <td>1435.0</td>\n",
       "      <td>1 stop</td>\n",
       "      <td>No info</td>\n",
       "      <td>NaN</td>\n",
       "      <td>2019-06-06 20:30:00</td>\n",
       "      <td>6</td>\n",
       "      <td>6</td>\n",
       "    </tr>\n",
       "    <tr>\n",
       "      <th>13349</th>\n",
       "      <td>IndiGo</td>\n",
       "      <td>Kolkata</td>\n",
       "      <td>Banglore</td>\n",
       "      <td>CCU → BLR</td>\n",
       "      <td>14.33</td>\n",
       "      <td>155.0</td>\n",
       "      <td>non-stop</td>\n",
       "      <td>No info</td>\n",
       "      <td>NaN</td>\n",
       "      <td>2019-03-27 14:20:00</td>\n",
       "      <td>27</td>\n",
       "      <td>3</td>\n",
       "    </tr>\n",
       "    <tr>\n",
       "      <th>13350</th>\n",
       "      <td>Jet Airways</td>\n",
       "      <td>Delhi</td>\n",
       "      <td>Cochin</td>\n",
       "      <td>DEL → BOM → COK</td>\n",
       "      <td>21.83</td>\n",
       "      <td>395.0</td>\n",
       "      <td>1 stop</td>\n",
       "      <td>No info</td>\n",
       "      <td>NaN</td>\n",
       "      <td>2019-03-06 21:50:00</td>\n",
       "      <td>6</td>\n",
       "      <td>3</td>\n",
       "    </tr>\n",
       "    <tr>\n",
       "      <th>13351</th>\n",
       "      <td>Air India</td>\n",
       "      <td>Delhi</td>\n",
       "      <td>Cochin</td>\n",
       "      <td>DEL → BOM → COK</td>\n",
       "      <td>4.00</td>\n",
       "      <td>915.0</td>\n",
       "      <td>1 stop</td>\n",
       "      <td>No info</td>\n",
       "      <td>NaN</td>\n",
       "      <td>2019-03-06 04:00:00</td>\n",
       "      <td>6</td>\n",
       "      <td>3</td>\n",
       "    </tr>\n",
       "    <tr>\n",
       "      <th>13352</th>\n",
       "      <td>Multiple carriers</td>\n",
       "      <td>Delhi</td>\n",
       "      <td>Cochin</td>\n",
       "      <td>DEL → BOM → COK</td>\n",
       "      <td>4.92</td>\n",
       "      <td>860.0</td>\n",
       "      <td>1 stop</td>\n",
       "      <td>No info</td>\n",
       "      <td>NaN</td>\n",
       "      <td>2019-06-15 04:55:00</td>\n",
       "      <td>15</td>\n",
       "      <td>6</td>\n",
       "    </tr>\n",
       "  </tbody>\n",
       "</table>\n",
       "<p>13353 rows × 12 columns</p>\n",
       "</div>"
      ],
      "text/plain": [
       "                 Airline    Source Destination                  Route  \\\n",
       "0                 IndiGo  Banglore   New Delhi              BLR → DEL   \n",
       "1              Air India   Kolkata    Banglore  CCU → IXR → BBI → BLR   \n",
       "2            Jet Airways     Delhi      Cochin  DEL → LKO → BOM → COK   \n",
       "3                 IndiGo   Kolkata    Banglore        CCU → NAG → BLR   \n",
       "4                 IndiGo  Banglore   New Delhi        BLR → NAG → DEL   \n",
       "...                  ...       ...         ...                    ...   \n",
       "13348          Air India   Kolkata    Banglore        CCU → DEL → BLR   \n",
       "13349             IndiGo   Kolkata    Banglore              CCU → BLR   \n",
       "13350        Jet Airways     Delhi      Cochin        DEL → BOM → COK   \n",
       "13351          Air India     Delhi      Cochin        DEL → BOM → COK   \n",
       "13352  Multiple carriers     Delhi      Cochin        DEL → BOM → COK   \n",
       "\n",
       "       Dep_Time  Duration Total_Stops Additional_Info    Price  \\\n",
       "0         22.33     170.0    non-stop         No info   3897.0   \n",
       "1          5.83     445.0     2 stops         No info   7662.0   \n",
       "2          9.42    1140.0     2 stops         No info  13882.0   \n",
       "3         18.08     325.0      1 stop         No info   6218.0   \n",
       "4         16.83     285.0      1 stop         No info  13302.0   \n",
       "...         ...       ...         ...             ...      ...   \n",
       "13348     20.50    1435.0      1 stop         No info      NaN   \n",
       "13349     14.33     155.0    non-stop         No info      NaN   \n",
       "13350     21.83     395.0      1 stop         No info      NaN   \n",
       "13351      4.00     915.0      1 stop         No info      NaN   \n",
       "13352      4.92     860.0      1 stop         No info      NaN   \n",
       "\n",
       "                Date_Time  Day  Month  \n",
       "0     2019-03-24 22:20:00   24      3  \n",
       "1     2019-05-01 05:50:00    1      5  \n",
       "2     2019-06-09 09:25:00    9      6  \n",
       "3     2019-05-12 18:05:00   12      5  \n",
       "4     2019-03-01 16:50:00    1      3  \n",
       "...                   ...  ...    ...  \n",
       "13348 2019-06-06 20:30:00    6      6  \n",
       "13349 2019-03-27 14:20:00   27      3  \n",
       "13350 2019-03-06 21:50:00    6      3  \n",
       "13351 2019-03-06 04:00:00    6      3  \n",
       "13352 2019-06-15 04:55:00   15      6  \n",
       "\n",
       "[13353 rows x 12 columns]"
      ]
     },
     "execution_count": 21,
     "metadata": {},
     "output_type": "execute_result"
    }
   ],
   "source": [
    "data"
   ]
  },
  {
   "cell_type": "code",
   "execution_count": 22,
   "id": "0710d1be",
   "metadata": {},
   "outputs": [],
   "source": [
    "data.drop('Date_Time' ,axis = 1, inplace= True) # now we have no use of it"
   ]
  },
  {
   "cell_type": "code",
   "execution_count": 23,
   "id": "acbc7ea5",
   "metadata": {},
   "outputs": [
    {
     "data": {
      "text/plain": [
       "array(['non-stop', '2 stops', '1 stop', '3 stops', '4 stops'],\n",
       "      dtype=object)"
      ]
     },
     "execution_count": 23,
     "metadata": {},
     "output_type": "execute_result"
    }
   ],
   "source": [
    "unique=data.Total_Stops.unique()\n",
    "unique"
   ]
  },
  {
   "cell_type": "code",
   "execution_count": 24,
   "id": "740f7107",
   "metadata": {},
   "outputs": [],
   "source": [
    "data.Total_Stops = data.Total_Stops.replace(unique,[0,2,1,3,4])"
   ]
  },
  {
   "cell_type": "code",
   "execution_count": 25,
   "id": "5150e610",
   "metadata": {},
   "outputs": [
    {
     "data": {
      "text/plain": [
       "array(['Banglore', 'Kolkata', 'Delhi', 'Chennai', 'Mumbai'], dtype=object)"
      ]
     },
     "execution_count": 25,
     "metadata": {},
     "output_type": "execute_result"
    }
   ],
   "source": [
    "data.Source.unique()"
   ]
  },
  {
   "cell_type": "code",
   "execution_count": 26,
   "id": "85f8cf4d",
   "metadata": {},
   "outputs": [
    {
     "data": {
      "text/plain": [
       "array(['New Delhi', 'Banglore', 'Cochin', 'Kolkata', 'Delhi', 'Hyderabad'],\n",
       "      dtype=object)"
      ]
     },
     "execution_count": 26,
     "metadata": {},
     "output_type": "execute_result"
    }
   ],
   "source": [
    "data.Destination.unique() # delhi is twice"
   ]
  },
  {
   "cell_type": "code",
   "execution_count": 27,
   "id": "d684bbcd",
   "metadata": {},
   "outputs": [
    {
     "data": {
      "text/plain": [
       "array(['IndiGo', 'Air India', 'Jet Airways', 'SpiceJet',\n",
       "       'Multiple carriers', 'GoAir', 'Vistara', 'Air Asia',\n",
       "       'Vistara Premium economy', 'Jet Airways Business',\n",
       "       'Multiple carriers Premium economy', 'Trujet'], dtype=object)"
      ]
     },
     "execution_count": 27,
     "metadata": {},
     "output_type": "execute_result"
    }
   ],
   "source": [
    "data.Airline.unique() "
   ]
  },
  {
   "cell_type": "code",
   "execution_count": 28,
   "id": "ef6bf128",
   "metadata": {},
   "outputs": [],
   "source": [
    "data.Destination=data.Destination.replace('New Delhi','Delhi') # making new delhi, delhi"
   ]
  },
  {
   "cell_type": "code",
   "execution_count": 29,
   "id": "6b173817",
   "metadata": {},
   "outputs": [
    {
     "data": {
      "text/plain": [
       "array(['Airline', 'Source', 'Destination', 'Route', 'Dep_Time',\n",
       "       'Duration', 'Total_Stops', 'Additional_Info', 'Price', 'Day',\n",
       "       'Month'], dtype=object)"
      ]
     },
     "execution_count": 29,
     "metadata": {},
     "output_type": "execute_result"
    }
   ],
   "source": [
    "data.columns.values"
   ]
  },
  {
   "cell_type": "code",
   "execution_count": 30,
   "id": "2d8f3a8b",
   "metadata": {},
   "outputs": [],
   "source": [
    "# Here none of the values can be wrong , all the right data, so we can not remove data."
   ]
  },
  {
   "cell_type": "code",
   "execution_count": 31,
   "id": "312ec5d1",
   "metadata": {},
   "outputs": [],
   "source": [
    "# data.Price[data.Price>40000]= data.Price.median() # replacing outlliers with median"
   ]
  },
  {
   "cell_type": "code",
   "execution_count": 32,
   "id": "1d6b594a",
   "metadata": {},
   "outputs": [
    {
     "data": {
      "text/plain": [
       "array(['No info', 'In-flight meal not included',\n",
       "       'No check-in baggage included', '1 Short layover', 'No Info',\n",
       "       '1 Long layover', 'Change airports', 'Business class',\n",
       "       'Red-eye flight', '2 Long layover'], dtype=object)"
      ]
     },
     "execution_count": 32,
     "metadata": {},
     "output_type": "execute_result"
    }
   ],
   "source": [
    "data.Additional_Info.unique()"
   ]
  },
  {
   "cell_type": "markdown",
   "id": "306520eb",
   "metadata": {},
   "source": [
    "### Exploratory data analysis and feature elimination"
   ]
  },
  {
   "cell_type": "code",
   "execution_count": 33,
   "id": "caa55326",
   "metadata": {},
   "outputs": [
    {
     "data": {
      "text/plain": [
       "<seaborn.axisgrid.PairGrid at 0x2125191c7f0>"
      ]
     },
     "execution_count": 33,
     "metadata": {},
     "output_type": "execute_result"
    },
    {
     "data": {
      "image/png": "[encoded data removed]",
      "text/plain": [
       "<Figure size 1080x1080 with 42 Axes>"
      ]
     },
     "metadata": {
      "needs_background": "light"
     },
     "output_type": "display_data"
    }
   ],
   "source": [
    "sns.pairplot(data)"
   ]
  },
  {
   "cell_type": "code",
   "execution_count": 34,
   "id": "dbdced59",
   "metadata": {},
   "outputs": [],
   "source": [
    "# sns.catplot(x=\"Duration\", y=\"Price\", hue='Total_Stops', data=data, kind= 'strip')\n"
   ]
  },
  {
   "cell_type": "code",
   "execution_count": 35,
   "id": "75e16791",
   "metadata": {},
   "outputs": [
    {
     "data": {
      "text/plain": [
       "<AxesSubplot:xlabel='Day', ylabel='Price'>"
      ]
     },
     "execution_count": 35,
     "metadata": {},
     "output_type": "execute_result"
    },
    {
     "data": {
      "image/png": "[encoded data removed]",
      "text/plain": [
       "<Figure size 432x288 with 1 Axes>"
      ]
     },
     "metadata": {
      "needs_background": "light"
     },
     "output_type": "display_data"
    }
   ],
   "source": [
    "sns.boxplot(data=data,x=\"Day\", y=\"Price\")"
   ]
  },
  {
   "cell_type": "code",
   "execution_count": 36,
   "id": "a85f7f4c",
   "metadata": {},
   "outputs": [
    {
     "data": {
      "text/plain": [
       "<AxesSubplot:xlabel='Month', ylabel='Price'>"
      ]
     },
     "execution_count": 36,
     "metadata": {},
     "output_type": "execute_result"
    },
    {
     "data": {
      "image/png": "[encoded data removed]",
      "text/plain": [
       "<Figure size 432x288 with 1 Axes>"
      ]
     },
     "metadata": {
      "needs_background": "light"
     },
     "output_type": "display_data"
    }
   ],
   "source": [
    "sns.boxplot(data=data,x=\"Month\", y=\"Price\")"
   ]
  },
  {
   "cell_type": "code",
   "execution_count": 37,
   "id": "fddea03a",
   "metadata": {},
   "outputs": [
    {
     "data": {
      "text/plain": [
       "<AxesSubplot:xlabel='Duration', ylabel='Price'>"
      ]
     },
     "execution_count": 37,
     "metadata": {},
     "output_type": "execute_result"
    },
    {
     "data": {
      "image/png": "[encoded data removed]",
      "text/plain": [
       "<Figure size 432x288 with 1 Axes>"
      ]
     },
     "metadata": {
      "needs_background": "light"
     },
     "output_type": "display_data"
    }
   ],
   "source": [
    "data.plot.scatter(x=\"Duration\", y=\"Price\", ylim=(0,30000))"
   ]
  },
  {
   "cell_type": "code",
   "execution_count": 38,
   "id": "a12502a2",
   "metadata": {},
   "outputs": [
    {
     "data": {
      "text/plain": [
       "<AxesSubplot:xlabel='Route', ylabel='Price'>"
      ]
     },
     "execution_count": 38,
     "metadata": {},
     "output_type": "execute_result"
    },
    {
     "data": {
      "image/png": "[encoded data removed]",
      "text/plain": [
       "<Figure size 432x288 with 1 Axes>"
      ]
     },
     "metadata": {
      "needs_background": "light"
     },
     "output_type": "display_data"
    }
   ],
   "source": [
    "data.plot.scatter(x=\"Route\", y=\"Price\",rot=90)"
   ]
  },
  {
   "cell_type": "markdown",
   "id": "4bd47d7e",
   "metadata": {},
   "source": [
    "Route column is not providing anymore information then the tota stops and duration.\n",
    "It is also not significantly correlated to the price. We can drop this columns."
   ]
  },
  {
   "cell_type": "code",
   "execution_count": 39,
   "id": "756179b3",
   "metadata": {},
   "outputs": [
    {
     "data": {
      "text/plain": [
       "<AxesSubplot:xlabel='Airline', ylabel='Price'>"
      ]
     },
     "execution_count": 39,
     "metadata": {},
     "output_type": "execute_result"
    },
    {
     "data": {
      "image/png": "[encoded data removed]",
      "text/plain": [
       "<Figure size 432x288 with 2 Axes>"
      ]
     },
     "metadata": {
      "needs_background": "light"
     },
     "output_type": "display_data"
    }
   ],
   "source": [
    "data.plot.scatter(x=\"Airline\", y=\"Price\",c= 'Duration',colormap= 'jet', rot= 90) "
   ]
  },
  {
   "cell_type": "code",
   "execution_count": 40,
   "id": "272a4a4e",
   "metadata": {},
   "outputs": [
    {
     "data": {
      "text/html": [
       "<div>\n",
       "<style scoped>\n",
       "    .dataframe tbody tr th:only-of-type {\n",
       "        vertical-align: middle;\n",
       "    }\n",
       "\n",
       "    .dataframe tbody tr th {\n",
       "        vertical-align: top;\n",
       "    }\n",
       "\n",
       "    .dataframe thead th {\n",
       "        text-align: right;\n",
       "    }\n",
       "</style>\n",
       "<table border=\"1\" class=\"dataframe\">\n",
       "  <thead>\n",
       "    <tr style=\"text-align: right;\">\n",
       "      <th></th>\n",
       "      <th>Dep_Time</th>\n",
       "      <th>Duration</th>\n",
       "      <th>Total_Stops</th>\n",
       "      <th>Price</th>\n",
       "      <th>Day</th>\n",
       "      <th>Month</th>\n",
       "    </tr>\n",
       "  </thead>\n",
       "  <tbody>\n",
       "    <tr>\n",
       "      <th>Dep_Time</th>\n",
       "      <td>1.000000</td>\n",
       "      <td>-0.020421</td>\n",
       "      <td>-0.070352</td>\n",
       "      <td>0.003320</td>\n",
       "      <td>-0.003546</td>\n",
       "      <td>0.027194</td>\n",
       "    </tr>\n",
       "    <tr>\n",
       "      <th>Duration</th>\n",
       "      <td>-0.020421</td>\n",
       "      <td>1.000000</td>\n",
       "      <td>0.822642</td>\n",
       "      <td>0.692579</td>\n",
       "      <td>-0.024014</td>\n",
       "      <td>0.029136</td>\n",
       "    </tr>\n",
       "    <tr>\n",
       "      <th>Total_Stops</th>\n",
       "      <td>-0.070352</td>\n",
       "      <td>0.822642</td>\n",
       "      <td>1.000000</td>\n",
       "      <td>0.715551</td>\n",
       "      <td>-0.012043</td>\n",
       "      <td>0.055413</td>\n",
       "    </tr>\n",
       "    <tr>\n",
       "      <th>Price</th>\n",
       "      <td>0.003320</td>\n",
       "      <td>0.692579</td>\n",
       "      <td>0.715551</td>\n",
       "      <td>1.000000</td>\n",
       "      <td>-0.121830</td>\n",
       "      <td>-0.039704</td>\n",
       "    </tr>\n",
       "    <tr>\n",
       "      <th>Day</th>\n",
       "      <td>-0.003546</td>\n",
       "      <td>-0.024014</td>\n",
       "      <td>-0.012043</td>\n",
       "      <td>-0.121830</td>\n",
       "      <td>1.000000</td>\n",
       "      <td>-0.041269</td>\n",
       "    </tr>\n",
       "    <tr>\n",
       "      <th>Month</th>\n",
       "      <td>0.027194</td>\n",
       "      <td>0.029136</td>\n",
       "      <td>0.055413</td>\n",
       "      <td>-0.039704</td>\n",
       "      <td>-0.041269</td>\n",
       "      <td>1.000000</td>\n",
       "    </tr>\n",
       "  </tbody>\n",
       "</table>\n",
       "</div>"
      ],
      "text/plain": [
       "             Dep_Time  Duration  Total_Stops     Price       Day     Month\n",
       "Dep_Time     1.000000 -0.020421    -0.070352  0.003320 -0.003546  0.027194\n",
       "Duration    -0.020421  1.000000     0.822642  0.692579 -0.024014  0.029136\n",
       "Total_Stops -0.070352  0.822642     1.000000  0.715551 -0.012043  0.055413\n",
       "Price        0.003320  0.692579     0.715551  1.000000 -0.121830 -0.039704\n",
       "Day         -0.003546 -0.024014    -0.012043 -0.121830  1.000000 -0.041269\n",
       "Month        0.027194  0.029136     0.055413 -0.039704 -0.041269  1.000000"
      ]
     },
     "execution_count": 40,
     "metadata": {},
     "output_type": "execute_result"
    }
   ],
   "source": [
    "# checking spearman correlation for all columns. Data are not Gaussian at all \n",
    "\n",
    "data.corr(method = 'spearman')"
   ]
  },
  {
   "cell_type": "code",
   "execution_count": 41,
   "id": "6c418e77",
   "metadata": {},
   "outputs": [
    {
     "data": {
      "text/html": [
       "<div>\n",
       "<style scoped>\n",
       "    .dataframe tbody tr th:only-of-type {\n",
       "        vertical-align: middle;\n",
       "    }\n",
       "\n",
       "    .dataframe tbody tr th {\n",
       "        vertical-align: top;\n",
       "    }\n",
       "\n",
       "    .dataframe thead th {\n",
       "        text-align: right;\n",
       "    }\n",
       "</style>\n",
       "<table border=\"1\" class=\"dataframe\">\n",
       "  <thead>\n",
       "    <tr style=\"text-align: right;\">\n",
       "      <th></th>\n",
       "      <th>Dep_Time</th>\n",
       "      <th>Duration</th>\n",
       "      <th>Total_Stops</th>\n",
       "      <th>Price</th>\n",
       "      <th>Day</th>\n",
       "      <th>Month</th>\n",
       "    </tr>\n",
       "  </thead>\n",
       "  <tbody>\n",
       "    <tr>\n",
       "      <th>Dep_Time</th>\n",
       "      <td>1.0**</td>\n",
       "      <td>-0.0204</td>\n",
       "      <td>-0.0704**</td>\n",
       "      <td>0.0033</td>\n",
       "      <td>-0.0035</td>\n",
       "      <td>0.0272**</td>\n",
       "    </tr>\n",
       "    <tr>\n",
       "      <th>Duration</th>\n",
       "      <td>-0.0204</td>\n",
       "      <td>1.0**</td>\n",
       "      <td>0.8226**</td>\n",
       "      <td>0.6926**</td>\n",
       "      <td>-0.024**</td>\n",
       "      <td>0.0291**</td>\n",
       "    </tr>\n",
       "    <tr>\n",
       "      <th>Total_Stops</th>\n",
       "      <td>-0.0704**</td>\n",
       "      <td>0.8226**</td>\n",
       "      <td>1.0**</td>\n",
       "      <td>0.7156**</td>\n",
       "      <td>-0.012</td>\n",
       "      <td>0.0554**</td>\n",
       "    </tr>\n",
       "    <tr>\n",
       "      <th>Price</th>\n",
       "      <td>0.0033</td>\n",
       "      <td>0.6926**</td>\n",
       "      <td>0.7156**</td>\n",
       "      <td>1.0**</td>\n",
       "      <td>-0.1218**</td>\n",
       "      <td>-0.0397**</td>\n",
       "    </tr>\n",
       "    <tr>\n",
       "      <th>Day</th>\n",
       "      <td>-0.0035</td>\n",
       "      <td>-0.024**</td>\n",
       "      <td>-0.012</td>\n",
       "      <td>-0.1218**</td>\n",
       "      <td>1.0**</td>\n",
       "      <td>-0.0413**</td>\n",
       "    </tr>\n",
       "    <tr>\n",
       "      <th>Month</th>\n",
       "      <td>0.0272**</td>\n",
       "      <td>0.0291**</td>\n",
       "      <td>0.0554**</td>\n",
       "      <td>-0.0397**</td>\n",
       "      <td>-0.0413**</td>\n",
       "      <td>1.0**</td>\n",
       "    </tr>\n",
       "  </tbody>\n",
       "</table>\n",
       "</div>"
      ],
      "text/plain": [
       "              Dep_Time  Duration Total_Stops      Price        Day      Month\n",
       "Dep_Time         1.0**   -0.0204   -0.0704**     0.0033    -0.0035   0.0272**\n",
       "Duration       -0.0204     1.0**    0.8226**   0.6926**   -0.024**   0.0291**\n",
       "Total_Stops  -0.0704**  0.8226**       1.0**   0.7156**     -0.012   0.0554**\n",
       "Price           0.0033  0.6926**    0.7156**      1.0**  -0.1218**  -0.0397**\n",
       "Day            -0.0035  -0.024**      -0.012  -0.1218**      1.0**  -0.0413**\n",
       "Month         0.0272**  0.0291**    0.0554**  -0.0397**  -0.0413**      1.0**"
      ]
     },
     "execution_count": 41,
     "metadata": {},
     "output_type": "execute_result"
    }
   ],
   "source": [
    "from scipy.stats import pearsonr, spearmanr\n",
    "\n",
    "\n",
    "rho = data.corr(method='spearman')\n",
    "pval = data.corr(method=lambda x, y: spearmanr(x, y)[1]) - np.eye(*rho.shape)\n",
    "p = pval.applymap(lambda x: ''.join(['**' for t in [0.01] if x<=t]))\n",
    "rho.round(4).astype(str) + p"
   ]
  },
  {
   "cell_type": "markdown",
   "id": "65a5689f",
   "metadata": {},
   "source": [
    "#### From the above table, we observe the followings\n",
    "1. Price is not correlated with Day, Month, and Departure time \n",
    "2. Uncorrelation of Day and Month are statistically significant but, Departure time is not significant p>0.01 \n",
    "3. We can drop day and month columns but can not drop dep time \n",
    "4. Total stops are correlated with the duration with a significance of p<0.01, but that is 0.7, so we do not drop it."
   ]
  },
  {
   "cell_type": "code",
   "execution_count": 42,
   "id": "b1d962ed",
   "metadata": {},
   "outputs": [
    {
     "data": {
      "text/html": [
       "<div>\n",
       "<style scoped>\n",
       "    .dataframe tbody tr th:only-of-type {\n",
       "        vertical-align: middle;\n",
       "    }\n",
       "\n",
       "    .dataframe tbody tr th {\n",
       "        vertical-align: top;\n",
       "    }\n",
       "\n",
       "    .dataframe thead th {\n",
       "        text-align: right;\n",
       "    }\n",
       "</style>\n",
       "<table border=\"1\" class=\"dataframe\">\n",
       "  <thead>\n",
       "    <tr style=\"text-align: right;\">\n",
       "      <th></th>\n",
       "      <th>Dep_Time</th>\n",
       "      <th>Duration</th>\n",
       "      <th>Total_Stops</th>\n",
       "      <th>Price</th>\n",
       "      <th>Day</th>\n",
       "      <th>Month</th>\n",
       "    </tr>\n",
       "  </thead>\n",
       "  <tbody>\n",
       "    <tr>\n",
       "      <th>Dep_Time</th>\n",
       "      <td>1.0**</td>\n",
       "      <td>-0.0029</td>\n",
       "      <td>-0.0707**</td>\n",
       "      <td>0.0055</td>\n",
       "      <td>-0.0035</td>\n",
       "      <td>0.0307**</td>\n",
       "    </tr>\n",
       "    <tr>\n",
       "      <th>Duration</th>\n",
       "      <td>-0.0029</td>\n",
       "      <td>1.0**</td>\n",
       "      <td>0.7369**</td>\n",
       "      <td>0.5065**</td>\n",
       "      <td>-0.0228**</td>\n",
       "      <td>0.0083</td>\n",
       "    </tr>\n",
       "    <tr>\n",
       "      <th>Total_Stops</th>\n",
       "      <td>-0.0707**</td>\n",
       "      <td>0.7369**</td>\n",
       "      <td>1.0**</td>\n",
       "      <td>0.6039**</td>\n",
       "      <td>-0.0111</td>\n",
       "      <td>0.0469**</td>\n",
       "    </tr>\n",
       "    <tr>\n",
       "      <th>Price</th>\n",
       "      <td>0.0055</td>\n",
       "      <td>0.5065**</td>\n",
       "      <td>0.6039**</td>\n",
       "      <td>1.0**</td>\n",
       "      <td>-0.1538**</td>\n",
       "      <td>-0.1036**</td>\n",
       "    </tr>\n",
       "    <tr>\n",
       "      <th>Day</th>\n",
       "      <td>-0.0035</td>\n",
       "      <td>-0.0228**</td>\n",
       "      <td>-0.0111</td>\n",
       "      <td>-0.1538**</td>\n",
       "      <td>1.0**</td>\n",
       "      <td>-0.0355**</td>\n",
       "    </tr>\n",
       "    <tr>\n",
       "      <th>Month</th>\n",
       "      <td>0.0307**</td>\n",
       "      <td>0.0083</td>\n",
       "      <td>0.0469**</td>\n",
       "      <td>-0.1036**</td>\n",
       "      <td>-0.0355**</td>\n",
       "      <td>1.0**</td>\n",
       "    </tr>\n",
       "  </tbody>\n",
       "</table>\n",
       "</div>"
      ],
      "text/plain": [
       "              Dep_Time   Duration Total_Stops      Price        Day      Month\n",
       "Dep_Time         1.0**    -0.0029   -0.0707**     0.0055    -0.0035   0.0307**\n",
       "Duration       -0.0029      1.0**    0.7369**   0.5065**  -0.0228**     0.0083\n",
       "Total_Stops  -0.0707**   0.7369**       1.0**   0.6039**    -0.0111   0.0469**\n",
       "Price           0.0055   0.5065**    0.6039**      1.0**  -0.1538**  -0.1036**\n",
       "Day            -0.0035  -0.0228**     -0.0111  -0.1538**      1.0**  -0.0355**\n",
       "Month         0.0307**     0.0083    0.0469**  -0.1036**  -0.0355**      1.0**"
      ]
     },
     "execution_count": 42,
     "metadata": {},
     "output_type": "execute_result"
    }
   ],
   "source": [
    "rho = data.corr()\n",
    "pval = data.corr(method=lambda x, y: pearsonr(x, y)[1]) - np.eye(*rho.shape)\n",
    "p = pval.applymap(lambda x: ''.join(['**' for t in [0.01] if x<=t]))\n",
    "rho.round(4).astype(str) + p"
   ]
  },
  {
   "cell_type": "code",
   "execution_count": 43,
   "id": "b2d9f4da",
   "metadata": {},
   "outputs": [
    {
     "data": {
      "text/plain": [
       "array([3, 5, 6, 4], dtype=int64)"
      ]
     },
     "execution_count": 43,
     "metadata": {},
     "output_type": "execute_result"
    }
   ],
   "source": [
    "data.Month.unique()"
   ]
  },
  {
   "cell_type": "code",
   "execution_count": 44,
   "id": "5ade56e0",
   "metadata": {},
   "outputs": [
    {
     "data": {
      "text/plain": [
       "array([24,  1,  9, 12, 27, 18,  3, 15,  6, 21], dtype=int64)"
      ]
     },
     "execution_count": 44,
     "metadata": {},
     "output_type": "execute_result"
    }
   ],
   "source": [
    "data.Day.unique()"
   ]
  },
  {
   "cell_type": "code",
   "execution_count": 45,
   "id": "4a7a538a",
   "metadata": {},
   "outputs": [],
   "source": [
    "#data.drop(['Day','Month', 'Route'], axis= 1, inplace= True)\n",
    "data.drop([ 'Route'], axis= 1, inplace= True)"
   ]
  },
  {
   "cell_type": "markdown",
   "id": "d33eabeb",
   "metadata": {},
   "source": [
    "#### Perfoming one hot encoding to all categorical columns"
   ]
  },
  {
   "cell_type": "code",
   "execution_count": 46,
   "id": "85860e00",
   "metadata": {},
   "outputs": [],
   "source": [
    "data_processed = pd.get_dummies(data,prefix= None)"
   ]
  },
  {
   "cell_type": "code",
   "execution_count": 47,
   "id": "2216cd2c",
   "metadata": {},
   "outputs": [
    {
     "data": {
      "text/plain": [
       "array(['Dep_Time', 'Duration', 'Total_Stops', 'Price', 'Day', 'Month',\n",
       "       'Airline_Air Asia', 'Airline_Air India', 'Airline_GoAir',\n",
       "       'Airline_IndiGo', 'Airline_Jet Airways',\n",
       "       'Airline_Jet Airways Business', 'Airline_Multiple carriers',\n",
       "       'Airline_Multiple carriers Premium economy', 'Airline_SpiceJet',\n",
       "       'Airline_Trujet', 'Airline_Vistara',\n",
       "       'Airline_Vistara Premium economy', 'Source_Banglore',\n",
       "       'Source_Chennai', 'Source_Delhi', 'Source_Kolkata',\n",
       "       'Source_Mumbai', 'Destination_Banglore', 'Destination_Cochin',\n",
       "       'Destination_Delhi', 'Destination_Hyderabad',\n",
       "       'Destination_Kolkata', 'Additional_Info_1 Long layover',\n",
       "       'Additional_Info_1 Short layover',\n",
       "       'Additional_Info_2 Long layover', 'Additional_Info_Business class',\n",
       "       'Additional_Info_Change airports',\n",
       "       'Additional_Info_In-flight meal not included',\n",
       "       'Additional_Info_No Info',\n",
       "       'Additional_Info_No check-in baggage included',\n",
       "       'Additional_Info_No info', 'Additional_Info_Red-eye flight'],\n",
       "      dtype=object)"
      ]
     },
     "execution_count": 47,
     "metadata": {},
     "output_type": "execute_result"
    }
   ],
   "source": [
    "data_processed.columns.values"
   ]
  },
  {
   "cell_type": "code",
   "execution_count": 48,
   "id": "0eff7bd4",
   "metadata": {},
   "outputs": [],
   "source": [
    "list_drop=['Additional_Info_No Info','Additional_Info_No info','Additional_Info_1 Short layover'\n",
    "           ,'Additional_Info_1 Long layover','Additional_Info_2 Long layover'\n",
    "           ,'Additional_Info_Change airports']\n",
    "\n",
    "# these columns are not giving us any info other then number of stops and time duration"
   ]
  },
  {
   "cell_type": "code",
   "execution_count": 49,
   "id": "58ea1851",
   "metadata": {},
   "outputs": [],
   "source": [
    "data_processed.drop(list_drop, axis=1, inplace= True)"
   ]
  },
  {
   "cell_type": "code",
   "execution_count": 50,
   "id": "3ca83e8b",
   "metadata": {},
   "outputs": [
    {
     "data": {
      "text/plain": [
       "array(['Dep_Time', 'Duration', 'Total_Stops', 'Price', 'Day', 'Month',\n",
       "       'Airline_Air Asia', 'Airline_Air India', 'Airline_GoAir',\n",
       "       'Airline_IndiGo', 'Airline_Jet Airways',\n",
       "       'Airline_Jet Airways Business', 'Airline_Multiple carriers',\n",
       "       'Airline_Multiple carriers Premium economy', 'Airline_SpiceJet',\n",
       "       'Airline_Trujet', 'Airline_Vistara',\n",
       "       'Airline_Vistara Premium economy', 'Source_Banglore',\n",
       "       'Source_Chennai', 'Source_Delhi', 'Source_Kolkata',\n",
       "       'Source_Mumbai', 'Destination_Banglore', 'Destination_Cochin',\n",
       "       'Destination_Delhi', 'Destination_Hyderabad',\n",
       "       'Destination_Kolkata', 'Additional_Info_Business class',\n",
       "       'Additional_Info_In-flight meal not included',\n",
       "       'Additional_Info_No check-in baggage included',\n",
       "       'Additional_Info_Red-eye flight'], dtype=object)"
      ]
     },
     "execution_count": 50,
     "metadata": {},
     "output_type": "execute_result"
    }
   ],
   "source": [
    "data_processed.columns.values"
   ]
  },
  {
   "cell_type": "code",
   "execution_count": 51,
   "id": "c23d5d03",
   "metadata": {},
   "outputs": [],
   "source": [
    "# now we devide test and train data set\n",
    "df=data_processed.copy()  # we want to keep data_processed"
   ]
  },
  {
   "cell_type": "code",
   "execution_count": 52,
   "id": "c863fb5d",
   "metadata": {},
   "outputs": [],
   "source": [
    "final_test = df.iloc[train_len:]"
   ]
  },
  {
   "cell_type": "code",
   "execution_count": 57,
   "id": "ca783519",
   "metadata": {},
   "outputs": [
    {
     "data": {
      "text/html": [
       "<div>\n",
       "<style scoped>\n",
       "    .dataframe tbody tr th:only-of-type {\n",
       "        vertical-align: middle;\n",
       "    }\n",
       "\n",
       "    .dataframe tbody tr th {\n",
       "        vertical-align: top;\n",
       "    }\n",
       "\n",
       "    .dataframe thead th {\n",
       "        text-align: right;\n",
       "    }\n",
       "</style>\n",
       "<table border=\"1\" class=\"dataframe\">\n",
       "  <thead>\n",
       "    <tr style=\"text-align: right;\">\n",
       "      <th></th>\n",
       "      <th>Dep_Time</th>\n",
       "      <th>Duration</th>\n",
       "      <th>Total_Stops</th>\n",
       "      <th>Price</th>\n",
       "      <th>Day</th>\n",
       "      <th>Month</th>\n",
       "      <th>Airline_Air Asia</th>\n",
       "      <th>Airline_Air India</th>\n",
       "      <th>Airline_GoAir</th>\n",
       "      <th>Airline_IndiGo</th>\n",
       "      <th>...</th>\n",
       "      <th>Source_Mumbai</th>\n",
       "      <th>Destination_Banglore</th>\n",
       "      <th>Destination_Cochin</th>\n",
       "      <th>Destination_Delhi</th>\n",
       "      <th>Destination_Hyderabad</th>\n",
       "      <th>Destination_Kolkata</th>\n",
       "      <th>Additional_Info_Business class</th>\n",
       "      <th>Additional_Info_In-flight meal not included</th>\n",
       "      <th>Additional_Info_No check-in baggage included</th>\n",
       "      <th>Additional_Info_Red-eye flight</th>\n",
       "    </tr>\n",
       "  </thead>\n",
       "  <tbody>\n",
       "    <tr>\n",
       "      <th>0</th>\n",
       "      <td>22.33</td>\n",
       "      <td>170.0</td>\n",
       "      <td>0</td>\n",
       "      <td>3897.0</td>\n",
       "      <td>24</td>\n",
       "      <td>3</td>\n",
       "      <td>0</td>\n",
       "      <td>0</td>\n",
       "      <td>0</td>\n",
       "      <td>1</td>\n",
       "      <td>...</td>\n",
       "      <td>0</td>\n",
       "      <td>0</td>\n",
       "      <td>0</td>\n",
       "      <td>1</td>\n",
       "      <td>0</td>\n",
       "      <td>0</td>\n",
       "      <td>0</td>\n",
       "      <td>0</td>\n",
       "      <td>0</td>\n",
       "      <td>0</td>\n",
       "    </tr>\n",
       "    <tr>\n",
       "      <th>1</th>\n",
       "      <td>5.83</td>\n",
       "      <td>445.0</td>\n",
       "      <td>2</td>\n",
       "      <td>7662.0</td>\n",
       "      <td>1</td>\n",
       "      <td>5</td>\n",
       "      <td>0</td>\n",
       "      <td>1</td>\n",
       "      <td>0</td>\n",
       "      <td>0</td>\n",
       "      <td>...</td>\n",
       "      <td>0</td>\n",
       "      <td>1</td>\n",
       "      <td>0</td>\n",
       "      <td>0</td>\n",
       "      <td>0</td>\n",
       "      <td>0</td>\n",
       "      <td>0</td>\n",
       "      <td>0</td>\n",
       "      <td>0</td>\n",
       "      <td>0</td>\n",
       "    </tr>\n",
       "    <tr>\n",
       "      <th>2</th>\n",
       "      <td>9.42</td>\n",
       "      <td>1140.0</td>\n",
       "      <td>2</td>\n",
       "      <td>13882.0</td>\n",
       "      <td>9</td>\n",
       "      <td>6</td>\n",
       "      <td>0</td>\n",
       "      <td>0</td>\n",
       "      <td>0</td>\n",
       "      <td>0</td>\n",
       "      <td>...</td>\n",
       "      <td>0</td>\n",
       "      <td>0</td>\n",
       "      <td>1</td>\n",
       "      <td>0</td>\n",
       "      <td>0</td>\n",
       "      <td>0</td>\n",
       "      <td>0</td>\n",
       "      <td>0</td>\n",
       "      <td>0</td>\n",
       "      <td>0</td>\n",
       "    </tr>\n",
       "    <tr>\n",
       "      <th>3</th>\n",
       "      <td>18.08</td>\n",
       "      <td>325.0</td>\n",
       "      <td>1</td>\n",
       "      <td>6218.0</td>\n",
       "      <td>12</td>\n",
       "      <td>5</td>\n",
       "      <td>0</td>\n",
       "      <td>0</td>\n",
       "      <td>0</td>\n",
       "      <td>1</td>\n",
       "      <td>...</td>\n",
       "      <td>0</td>\n",
       "      <td>1</td>\n",
       "      <td>0</td>\n",
       "      <td>0</td>\n",
       "      <td>0</td>\n",
       "      <td>0</td>\n",
       "      <td>0</td>\n",
       "      <td>0</td>\n",
       "      <td>0</td>\n",
       "      <td>0</td>\n",
       "    </tr>\n",
       "    <tr>\n",
       "      <th>4</th>\n",
       "      <td>16.83</td>\n",
       "      <td>285.0</td>\n",
       "      <td>1</td>\n",
       "      <td>13302.0</td>\n",
       "      <td>1</td>\n",
       "      <td>3</td>\n",
       "      <td>0</td>\n",
       "      <td>0</td>\n",
       "      <td>0</td>\n",
       "      <td>1</td>\n",
       "      <td>...</td>\n",
       "      <td>0</td>\n",
       "      <td>0</td>\n",
       "      <td>0</td>\n",
       "      <td>1</td>\n",
       "      <td>0</td>\n",
       "      <td>0</td>\n",
       "      <td>0</td>\n",
       "      <td>0</td>\n",
       "      <td>0</td>\n",
       "      <td>0</td>\n",
       "    </tr>\n",
       "    <tr>\n",
       "      <th>...</th>\n",
       "      <td>...</td>\n",
       "      <td>...</td>\n",
       "      <td>...</td>\n",
       "      <td>...</td>\n",
       "      <td>...</td>\n",
       "      <td>...</td>\n",
       "      <td>...</td>\n",
       "      <td>...</td>\n",
       "      <td>...</td>\n",
       "      <td>...</td>\n",
       "      <td>...</td>\n",
       "      <td>...</td>\n",
       "      <td>...</td>\n",
       "      <td>...</td>\n",
       "      <td>...</td>\n",
       "      <td>...</td>\n",
       "      <td>...</td>\n",
       "      <td>...</td>\n",
       "      <td>...</td>\n",
       "      <td>...</td>\n",
       "      <td>...</td>\n",
       "    </tr>\n",
       "    <tr>\n",
       "      <th>13348</th>\n",
       "      <td>20.50</td>\n",
       "      <td>1435.0</td>\n",
       "      <td>1</td>\n",
       "      <td>NaN</td>\n",
       "      <td>6</td>\n",
       "      <td>6</td>\n",
       "      <td>0</td>\n",
       "      <td>1</td>\n",
       "      <td>0</td>\n",
       "      <td>0</td>\n",
       "      <td>...</td>\n",
       "      <td>0</td>\n",
       "      <td>1</td>\n",
       "      <td>0</td>\n",
       "      <td>0</td>\n",
       "      <td>0</td>\n",
       "      <td>0</td>\n",
       "      <td>0</td>\n",
       "      <td>0</td>\n",
       "      <td>0</td>\n",
       "      <td>0</td>\n",
       "    </tr>\n",
       "    <tr>\n",
       "      <th>13349</th>\n",
       "      <td>14.33</td>\n",
       "      <td>155.0</td>\n",
       "      <td>0</td>\n",
       "      <td>NaN</td>\n",
       "      <td>27</td>\n",
       "      <td>3</td>\n",
       "      <td>0</td>\n",
       "      <td>0</td>\n",
       "      <td>0</td>\n",
       "      <td>1</td>\n",
       "      <td>...</td>\n",
       "      <td>0</td>\n",
       "      <td>1</td>\n",
       "      <td>0</td>\n",
       "      <td>0</td>\n",
       "      <td>0</td>\n",
       "      <td>0</td>\n",
       "      <td>0</td>\n",
       "      <td>0</td>\n",
       "      <td>0</td>\n",
       "      <td>0</td>\n",
       "    </tr>\n",
       "    <tr>\n",
       "      <th>13350</th>\n",
       "      <td>21.83</td>\n",
       "      <td>395.0</td>\n",
       "      <td>1</td>\n",
       "      <td>NaN</td>\n",
       "      <td>6</td>\n",
       "      <td>3</td>\n",
       "      <td>0</td>\n",
       "      <td>0</td>\n",
       "      <td>0</td>\n",
       "      <td>0</td>\n",
       "      <td>...</td>\n",
       "      <td>0</td>\n",
       "      <td>0</td>\n",
       "      <td>1</td>\n",
       "      <td>0</td>\n",
       "      <td>0</td>\n",
       "      <td>0</td>\n",
       "      <td>0</td>\n",
       "      <td>0</td>\n",
       "      <td>0</td>\n",
       "      <td>0</td>\n",
       "    </tr>\n",
       "    <tr>\n",
       "      <th>13351</th>\n",
       "      <td>4.00</td>\n",
       "      <td>915.0</td>\n",
       "      <td>1</td>\n",
       "      <td>NaN</td>\n",
       "      <td>6</td>\n",
       "      <td>3</td>\n",
       "      <td>0</td>\n",
       "      <td>1</td>\n",
       "      <td>0</td>\n",
       "      <td>0</td>\n",
       "      <td>...</td>\n",
       "      <td>0</td>\n",
       "      <td>0</td>\n",
       "      <td>1</td>\n",
       "      <td>0</td>\n",
       "      <td>0</td>\n",
       "      <td>0</td>\n",
       "      <td>0</td>\n",
       "      <td>0</td>\n",
       "      <td>0</td>\n",
       "      <td>0</td>\n",
       "    </tr>\n",
       "    <tr>\n",
       "      <th>13352</th>\n",
       "      <td>4.92</td>\n",
       "      <td>860.0</td>\n",
       "      <td>1</td>\n",
       "      <td>NaN</td>\n",
       "      <td>15</td>\n",
       "      <td>6</td>\n",
       "      <td>0</td>\n",
       "      <td>0</td>\n",
       "      <td>0</td>\n",
       "      <td>0</td>\n",
       "      <td>...</td>\n",
       "      <td>0</td>\n",
       "      <td>0</td>\n",
       "      <td>1</td>\n",
       "      <td>0</td>\n",
       "      <td>0</td>\n",
       "      <td>0</td>\n",
       "      <td>0</td>\n",
       "      <td>0</td>\n",
       "      <td>0</td>\n",
       "      <td>0</td>\n",
       "    </tr>\n",
       "  </tbody>\n",
       "</table>\n",
       "<p>13353 rows × 32 columns</p>\n",
       "</div>"
      ],
      "text/plain": [
       "       Dep_Time  Duration  Total_Stops    Price  Day  Month  Airline_Air Asia  \\\n",
       "0         22.33     170.0            0   3897.0   24      3                 0   \n",
       "1          5.83     445.0            2   7662.0    1      5                 0   \n",
       "2          9.42    1140.0            2  13882.0    9      6                 0   \n",
       "3         18.08     325.0            1   6218.0   12      5                 0   \n",
       "4         16.83     285.0            1  13302.0    1      3                 0   \n",
       "...         ...       ...          ...      ...  ...    ...               ...   \n",
       "13348     20.50    1435.0            1      NaN    6      6                 0   \n",
       "13349     14.33     155.0            0      NaN   27      3                 0   \n",
       "13350     21.83     395.0            1      NaN    6      3                 0   \n",
       "13351      4.00     915.0            1      NaN    6      3                 0   \n",
       "13352      4.92     860.0            1      NaN   15      6                 0   \n",
       "\n",
       "       Airline_Air India  Airline_GoAir  Airline_IndiGo  ...  Source_Mumbai  \\\n",
       "0                      0              0               1  ...              0   \n",
       "1                      1              0               0  ...              0   \n",
       "2                      0              0               0  ...              0   \n",
       "3                      0              0               1  ...              0   \n",
       "4                      0              0               1  ...              0   \n",
       "...                  ...            ...             ...  ...            ...   \n",
       "13348                  1              0               0  ...              0   \n",
       "13349                  0              0               1  ...              0   \n",
       "13350                  0              0               0  ...              0   \n",
       "13351                  1              0               0  ...              0   \n",
       "13352                  0              0               0  ...              0   \n",
       "\n",
       "       Destination_Banglore  Destination_Cochin  Destination_Delhi  \\\n",
       "0                         0                   0                  1   \n",
       "1                         1                   0                  0   \n",
       "2                         0                   1                  0   \n",
       "3                         1                   0                  0   \n",
       "4                         0                   0                  1   \n",
       "...                     ...                 ...                ...   \n",
       "13348                     1                   0                  0   \n",
       "13349                     1                   0                  0   \n",
       "13350                     0                   1                  0   \n",
       "13351                     0                   1                  0   \n",
       "13352                     0                   1                  0   \n",
       "\n",
       "       Destination_Hyderabad  Destination_Kolkata  \\\n",
       "0                          0                    0   \n",
       "1                          0                    0   \n",
       "2                          0                    0   \n",
       "3                          0                    0   \n",
       "4                          0                    0   \n",
       "...                      ...                  ...   \n",
       "13348                      0                    0   \n",
       "13349                      0                    0   \n",
       "13350                      0                    0   \n",
       "13351                      0                    0   \n",
       "13352                      0                    0   \n",
       "\n",
       "       Additional_Info_Business class  \\\n",
       "0                                   0   \n",
       "1                                   0   \n",
       "2                                   0   \n",
       "3                                   0   \n",
       "4                                   0   \n",
       "...                               ...   \n",
       "13348                               0   \n",
       "13349                               0   \n",
       "13350                               0   \n",
       "13351                               0   \n",
       "13352                               0   \n",
       "\n",
       "       Additional_Info_In-flight meal not included  \\\n",
       "0                                                0   \n",
       "1                                                0   \n",
       "2                                                0   \n",
       "3                                                0   \n",
       "4                                                0   \n",
       "...                                            ...   \n",
       "13348                                            0   \n",
       "13349                                            0   \n",
       "13350                                            0   \n",
       "13351                                            0   \n",
       "13352                                            0   \n",
       "\n",
       "       Additional_Info_No check-in baggage included  \\\n",
       "0                                                 0   \n",
       "1                                                 0   \n",
       "2                                                 0   \n",
       "3                                                 0   \n",
       "4                                                 0   \n",
       "...                                             ...   \n",
       "13348                                             0   \n",
       "13349                                             0   \n",
       "13350                                             0   \n",
       "13351                                             0   \n",
       "13352                                             0   \n",
       "\n",
       "       Additional_Info_Red-eye flight  \n",
       "0                                   0  \n",
       "1                                   0  \n",
       "2                                   0  \n",
       "3                                   0  \n",
       "4                                   0  \n",
       "...                               ...  \n",
       "13348                               0  \n",
       "13349                               0  \n",
       "13350                               0  \n",
       "13351                               0  \n",
       "13352                               0  \n",
       "\n",
       "[13353 rows x 32 columns]"
      ]
     },
     "execution_count": 57,
     "metadata": {},
     "output_type": "execute_result"
    }
   ],
   "source": [
    "df"
   ]
  },
  {
   "cell_type": "code",
   "execution_count": 58,
   "id": "6a397961",
   "metadata": {},
   "outputs": [],
   "source": [
    "X= df.iloc[:train_len,df.columns.values!=\"Price\"].values\n",
    "y= df.iloc[:train_len,df.columns.values==\"Price\"].values"
   ]
  },
  {
   "cell_type": "markdown",
   "id": "c1fef245",
   "metadata": {},
   "source": [
    " ### Exploring models and hyperparameter tuning\n",
    " \n",
    " We will try diffrent algorithms for better accuracy and tune some other hyperparamenters."
   ]
  },
  {
   "cell_type": "code",
   "execution_count": 59,
   "id": "7f1359c7",
   "metadata": {},
   "outputs": [],
   "source": [
    "from sklearn.model_selection import train_test_split\n",
    "from sklearn.preprocessing import StandardScaler, MinMaxScaler, PolynomialFeatures\n",
    "\n",
    "y= y.ravel()\n",
    "\n",
    "X_train, X_test, y_train, y_test  = train_test_split(X, y, test_size=0.2, random_state=1)\n",
    "\n",
    "X_train, X_val, y_train, y_val = train_test_split(X_train, y_train, test_size=0.25, random_state=18)"
   ]
  },
  {
   "cell_type": "code",
   "execution_count": 60,
   "id": "8de946db",
   "metadata": {},
   "outputs": [
    {
     "data": {
      "text/plain": [
       "(6408, 2137, 2137)"
      ]
     },
     "execution_count": 60,
     "metadata": {},
     "output_type": "execute_result"
    }
   ],
   "source": [
    "len(X_train),len(X_val), len(X_test)"
   ]
  },
  {
   "cell_type": "markdown",
   "id": "38ae0dd2",
   "metadata": {},
   "source": [
    "### Trying linear models"
   ]
  },
  {
   "cell_type": "code",
   "execution_count": 61,
   "id": "b8a09b90",
   "metadata": {},
   "outputs": [],
   "source": [
    "from sklearn.pipeline import Pipeline, make_pipeline\n",
    "from sklearn.linear_model import SGDRegressor\n",
    "from sklearn.model_selection import RandomizedSearchCV, GridSearchCV\n",
    "from sklearn.metrics import r2_score"
   ]
  },
  {
   "cell_type": "code",
   "execution_count": 62,
   "id": "d0451135",
   "metadata": {},
   "outputs": [],
   "source": [
    "degree = [2,3]\n",
    "alpha=[0.06,0.1,0.3,1]\n",
    "penalty= [\"l1\",'l2']  # l1 is lasso and l2 is ridge\n"
   ]
  },
  {
   "cell_type": "code",
   "execution_count": 63,
   "id": "cec0bc97",
   "metadata": {},
   "outputs": [],
   "source": [
    "# Create the random grid\n",
    "reg_model = Pipeline([('poly',PolynomialFeatures(degree=3)),(\"scale\",MinMaxScaler()),(\"reg\",SGDRegressor())])\n",
    "random_grid={ \n",
    "     'poly__degree':degree,\n",
    "    'reg__alpha' :alpha,\n",
    "    'reg__penalty': penalty}"
   ]
  },
  {
   "cell_type": "code",
   "execution_count": 64,
   "id": "d37a3019",
   "metadata": {},
   "outputs": [],
   "source": [
    "#GridSearchCV?"
   ]
  },
  {
   "cell_type": "code",
   "execution_count": 292,
   "id": "f97d90af",
   "metadata": {},
   "outputs": [
    {
     "data": {
      "text/plain": [
       "dict_keys(['memory', 'steps', 'verbose', 'poly', 'scale', 'reg', 'poly__degree', 'poly__include_bias', 'poly__interaction_only', 'poly__order', 'scale__clip', 'scale__copy', 'scale__feature_range', 'reg__alpha', 'reg__average', 'reg__early_stopping', 'reg__epsilon', 'reg__eta0', 'reg__fit_intercept', 'reg__l1_ratio', 'reg__learning_rate', 'reg__loss', 'reg__max_iter', 'reg__n_iter_no_change', 'reg__penalty', 'reg__power_t', 'reg__random_state', 'reg__shuffle', 'reg__tol', 'reg__validation_fraction', 'reg__verbose', 'reg__warm_start'])"
      ]
     },
     "execution_count": 292,
     "metadata": {},
     "output_type": "execute_result"
    }
   ],
   "source": [
    "reg_model.get_params().keys()"
   ]
  },
  {
   "cell_type": "code",
   "execution_count": 293,
   "id": "7997056f",
   "metadata": {},
   "outputs": [],
   "source": [
    "# Random search of parameters, using 3 fold cross validation\n",
    "reg_best = GridSearchCV(estimator=reg_model ,param_grid=random_grid,cv=10)"
   ]
  },
  {
   "cell_type": "code",
   "execution_count": 294,
   "id": "a75f4993",
   "metadata": {},
   "outputs": [
    {
     "data": {
      "text/plain": [
       "GridSearchCV(cv=5,\n",
       "             estimator=Pipeline(steps=[('poly', PolynomialFeatures(degree=3)),\n",
       "                                       ('scale', MinMaxScaler()),\n",
       "                                       ('reg', SGDRegressor())]),\n",
       "             param_grid={'reg__alpha': [0.06, 0.1, 0.3, 1],\n",
       "                         'reg__penalty': ['l1', 'l2']})"
      ]
     },
     "execution_count": 294,
     "metadata": {},
     "output_type": "execute_result"
    }
   ],
   "source": [
    "reg_best.fit(X_train,y_train)"
   ]
  },
  {
   "cell_type": "code",
   "execution_count": 370,
   "id": "6b9a7adb",
   "metadata": {},
   "outputs": [
    {
     "data": {
      "text/plain": [
       "Pipeline(steps=[('poly', PolynomialFeatures(degree=3)),\n",
       "                ('scale', MinMaxScaler()),\n",
       "                ('reg', SGDRegressor(alpha=0.06, penalty='l1'))])"
      ]
     },
     "execution_count": 370,
     "metadata": {},
     "output_type": "execute_result"
    }
   ],
   "source": [
    "reg_best.best_estimator_"
   ]
  },
  {
   "cell_type": "code",
   "execution_count": null,
   "id": "57e94b4e",
   "metadata": {},
   "outputs": [],
   "source": [
    "# we used above meters in new model "
   ]
  },
  {
   "cell_type": "code",
   "execution_count": 364,
   "id": "db48cebe",
   "metadata": {},
   "outputs": [],
   "source": [
    "# reg_best.score(X_train,y_train), reg_model.score(X_val,y_val)"
   ]
  },
  {
   "cell_type": "code",
   "execution_count": 365,
   "id": "a9389fa0",
   "metadata": {},
   "outputs": [
    {
     "data": {
      "text/plain": [
       "0.7485896811885234"
      ]
     },
     "execution_count": 365,
     "metadata": {},
     "output_type": "execute_result"
    }
   ],
   "source": [
    "r2_score (reg_best.predict(X_val), y_val)"
   ]
  },
  {
   "cell_type": "code",
   "execution_count": 366,
   "id": "a7b695ee",
   "metadata": {},
   "outputs": [
    {
     "data": {
      "text/plain": [
       "0.7222518116006158"
      ]
     },
     "execution_count": 366,
     "metadata": {},
     "output_type": "execute_result"
    }
   ],
   "source": [
    "r2_score (reg_best.predict(X_train), y_train)"
   ]
  },
  {
   "cell_type": "code",
   "execution_count": 367,
   "id": "6dfb754b",
   "metadata": {},
   "outputs": [],
   "source": [
    "coef_best = reg_best.best_estimator_.named_steps['reg'].coef_"
   ]
  },
  {
   "cell_type": "code",
   "execution_count": 368,
   "id": "0ca5abda",
   "metadata": {},
   "outputs": [
    {
     "data": {
      "text/plain": [
       "5984"
      ]
     },
     "execution_count": 368,
     "metadata": {},
     "output_type": "execute_result"
    }
   ],
   "source": [
    "len(coef_best)"
   ]
  },
  {
   "cell_type": "code",
   "execution_count": 369,
   "id": "f04c8843",
   "metadata": {},
   "outputs": [
    {
     "data": {
      "text/plain": [
       "1498"
      ]
     },
     "execution_count": 369,
     "metadata": {},
     "output_type": "execute_result"
    }
   ],
   "source": [
    "len(coef_best[np.where(coef_best!=0)])"
   ]
  },
  {
   "cell_type": "code",
   "execution_count": 65,
   "id": "84d35b79",
   "metadata": {},
   "outputs": [],
   "source": [
    "reg_model = Pipeline([('poly',PolynomialFeatures(degree=3)),(\"scale\",MinMaxScaler()),(\"reg\",SGDRegressor(alpha=0.06,penalty=\"l1\"))])"
   ]
  },
  {
   "cell_type": "code",
   "execution_count": 66,
   "id": "5c5d97f0",
   "metadata": {},
   "outputs": [
    {
     "data": {
      "text/plain": [
       "Pipeline(steps=[('poly', PolynomialFeatures(degree=3)),\n",
       "                ('scale', MinMaxScaler()),\n",
       "                ('reg', SGDRegressor(alpha=0.06, penalty='l1'))])"
      ]
     },
     "execution_count": 66,
     "metadata": {},
     "output_type": "execute_result"
    }
   ],
   "source": [
    "reg_model.fit(X_train,y_train)"
   ]
  },
  {
   "cell_type": "code",
   "execution_count": 67,
   "id": "fdfa1a3a",
   "metadata": {},
   "outputs": [
    {
     "data": {
      "text/plain": [
       "(0.7949716749032788, 0.8231365592124216, 0.7949716749032788)"
      ]
     },
     "execution_count": 67,
     "metadata": {},
     "output_type": "execute_result"
    }
   ],
   "source": [
    "reg_model.score(X_train,y_train), reg_model.score(X_val,y_val), reg_model.score(X_train,y_train)"
   ]
  },
  {
   "cell_type": "code",
   "execution_count": 68,
   "id": "f20291eb",
   "metadata": {},
   "outputs": [],
   "source": [
    "# above is the best score we got from linear models "
   ]
  },
  {
   "cell_type": "code",
   "execution_count": 72,
   "id": "2b156b76",
   "metadata": {},
   "outputs": [],
   "source": [
    "X_train1, X_test1, y_train1, y_test1  = train_test_split(X, y, test_size=0.2, random_state=18)\n",
    "\n",
    "#X_train, X_val, y_train, y_val = train_test_split(X_train, y_train, test_size=0.25, random_state=18)"
   ]
  },
  {
   "cell_type": "code",
   "execution_count": null,
   "id": "ed0329c3",
   "metadata": {},
   "outputs": [],
   "source": []
  },
  {
   "cell_type": "code",
   "execution_count": 73,
   "id": "368a61e0",
   "metadata": {},
   "outputs": [
    {
     "data": {
      "text/plain": [
       "Pipeline(steps=[('poly', PolynomialFeatures(degree=3)),\n",
       "                ('scale', MinMaxScaler()),\n",
       "                ('reg', SGDRegressor(alpha=0.06, penalty='l1'))])"
      ]
     },
     "execution_count": 73,
     "metadata": {},
     "output_type": "execute_result"
    }
   ],
   "source": [
    "reg_model.fit(X_train1,y_train1)"
   ]
  },
  {
   "cell_type": "code",
   "execution_count": 78,
   "id": "8d48039e",
   "metadata": {},
   "outputs": [
    {
     "data": {
      "text/plain": [
       "(0.7947970093907295, 0.8080269482754462)"
      ]
     },
     "execution_count": 78,
     "metadata": {},
     "output_type": "execute_result"
    }
   ],
   "source": [
    "reg_model.score(X_train1,y_train1), reg_model.score(X_test1, y_test1)"
   ]
  },
  {
   "cell_type": "markdown",
   "id": "8e6cd220",
   "metadata": {},
   "source": [
    "### Trying nonlinear models "
   ]
  },
  {
   "cell_type": "code",
   "execution_count": 432,
   "id": "a4987f79",
   "metadata": {},
   "outputs": [],
   "source": [
    "from sklearn.ensemble import RandomForestRegressor\n",
    "from sklearn.tree import DecisionTreeRegressor"
   ]
  },
  {
   "cell_type": "code",
   "execution_count": 434,
   "id": "1c1376e0",
   "metadata": {},
   "outputs": [],
   "source": [
    "model = DecisionTreeRegressor(max_depth=16,min_samples_leaf=50)\n"
   ]
  },
  {
   "cell_type": "code",
   "execution_count": 435,
   "id": "a38892b3",
   "metadata": {},
   "outputs": [
    {
     "data": {
      "text/plain": [
       "DecisionTreeRegressor(max_depth=16, min_samples_leaf=50)"
      ]
     },
     "execution_count": 435,
     "metadata": {},
     "output_type": "execute_result"
    }
   ],
   "source": [
    "model.fit(X_train,y_train)"
   ]
  },
  {
   "cell_type": "code",
   "execution_count": 436,
   "id": "448fe4c6",
   "metadata": {},
   "outputs": [
    {
     "data": {
      "text/plain": [
       "array([4.69775930e-03, 5.84213082e-01, 2.95350909e-02, 7.61372646e-02,\n",
       "       6.97164782e-02, 7.46423276e-05, 4.29634371e-03, 0.00000000e+00,\n",
       "       3.24106577e-03, 6.75902802e-02, 0.00000000e+00, 2.04256529e-02,\n",
       "       0.00000000e+00, 6.04078352e-04, 0.00000000e+00, 2.78773738e-03,\n",
       "       0.00000000e+00, 2.02457298e-03, 9.94939347e-05, 3.34998763e-03,\n",
       "       2.17023124e-03, 0.00000000e+00, 1.91469536e-04, 0.00000000e+00,\n",
       "       2.48915896e-02, 0.00000000e+00, 0.00000000e+00, 0.00000000e+00,\n",
       "       1.03953180e-01, 0.00000000e+00, 0.00000000e+00])"
      ]
     },
     "execution_count": 436,
     "metadata": {},
     "output_type": "execute_result"
    }
   ],
   "source": [
    "# seeing which parameters are more important \n",
    "\n",
    "model.feature_importances_"
   ]
  },
  {
   "cell_type": "code",
   "execution_count": null,
   "id": "c9568cb9",
   "metadata": {},
   "outputs": [],
   "source": [
    "df.iloc[train_len:,df.columns.values!=\"Price\"]\n"
   ]
  },
  {
   "cell_type": "code",
   "execution_count": 486,
   "id": "dfb3cf3d",
   "metadata": {},
   "outputs": [],
   "source": [
    "cols=df.columns[df.columns.values!=\"Price\"]"
   ]
  },
  {
   "cell_type": "code",
   "execution_count": 487,
   "id": "a6c3ab72",
   "metadata": {},
   "outputs": [
    {
     "data": {
      "text/html": [
       "<div>\n",
       "<style scoped>\n",
       "    .dataframe tbody tr th:only-of-type {\n",
       "        vertical-align: middle;\n",
       "    }\n",
       "\n",
       "    .dataframe tbody tr th {\n",
       "        vertical-align: top;\n",
       "    }\n",
       "\n",
       "    .dataframe thead th {\n",
       "        text-align: right;\n",
       "    }\n",
       "</style>\n",
       "<table border=\"1\" class=\"dataframe\">\n",
       "  <thead>\n",
       "    <tr style=\"text-align: right;\">\n",
       "      <th></th>\n",
       "      <th>0</th>\n",
       "      <th>1</th>\n",
       "    </tr>\n",
       "  </thead>\n",
       "  <tbody>\n",
       "    <tr>\n",
       "      <th>0</th>\n",
       "      <td>Dep_Time</td>\n",
       "      <td>0.004698</td>\n",
       "    </tr>\n",
       "    <tr>\n",
       "      <th>1</th>\n",
       "      <td>Duration</td>\n",
       "      <td>0.584213</td>\n",
       "    </tr>\n",
       "    <tr>\n",
       "      <th>2</th>\n",
       "      <td>Total_Stops</td>\n",
       "      <td>0.029535</td>\n",
       "    </tr>\n",
       "    <tr>\n",
       "      <th>3</th>\n",
       "      <td>Day</td>\n",
       "      <td>0.076137</td>\n",
       "    </tr>\n",
       "    <tr>\n",
       "      <th>4</th>\n",
       "      <td>Month</td>\n",
       "      <td>0.069716</td>\n",
       "    </tr>\n",
       "    <tr>\n",
       "      <th>5</th>\n",
       "      <td>Airline_Air Asia</td>\n",
       "      <td>0.000075</td>\n",
       "    </tr>\n",
       "    <tr>\n",
       "      <th>6</th>\n",
       "      <td>Airline_Air India</td>\n",
       "      <td>0.004296</td>\n",
       "    </tr>\n",
       "    <tr>\n",
       "      <th>7</th>\n",
       "      <td>Airline_GoAir</td>\n",
       "      <td>0.0</td>\n",
       "    </tr>\n",
       "    <tr>\n",
       "      <th>8</th>\n",
       "      <td>Airline_IndiGo</td>\n",
       "      <td>0.003241</td>\n",
       "    </tr>\n",
       "    <tr>\n",
       "      <th>9</th>\n",
       "      <td>Airline_Jet Airways</td>\n",
       "      <td>0.06759</td>\n",
       "    </tr>\n",
       "    <tr>\n",
       "      <th>10</th>\n",
       "      <td>Airline_Jet Airways Business</td>\n",
       "      <td>0.0</td>\n",
       "    </tr>\n",
       "    <tr>\n",
       "      <th>11</th>\n",
       "      <td>Airline_Multiple carriers</td>\n",
       "      <td>0.020426</td>\n",
       "    </tr>\n",
       "    <tr>\n",
       "      <th>12</th>\n",
       "      <td>Airline_Multiple carriers Premium economy</td>\n",
       "      <td>0.0</td>\n",
       "    </tr>\n",
       "    <tr>\n",
       "      <th>13</th>\n",
       "      <td>Airline_SpiceJet</td>\n",
       "      <td>0.000604</td>\n",
       "    </tr>\n",
       "    <tr>\n",
       "      <th>14</th>\n",
       "      <td>Airline_Trujet</td>\n",
       "      <td>0.0</td>\n",
       "    </tr>\n",
       "    <tr>\n",
       "      <th>15</th>\n",
       "      <td>Airline_Vistara</td>\n",
       "      <td>0.002788</td>\n",
       "    </tr>\n",
       "    <tr>\n",
       "      <th>16</th>\n",
       "      <td>Airline_Vistara Premium economy</td>\n",
       "      <td>0.0</td>\n",
       "    </tr>\n",
       "    <tr>\n",
       "      <th>17</th>\n",
       "      <td>Source_Banglore</td>\n",
       "      <td>0.026916</td>\n",
       "    </tr>\n",
       "    <tr>\n",
       "      <th>18</th>\n",
       "      <td>Source_Chennai</td>\n",
       "      <td>0.0</td>\n",
       "    </tr>\n",
       "    <tr>\n",
       "      <th>19</th>\n",
       "      <td>Source_Delhi</td>\n",
       "      <td>0.0</td>\n",
       "    </tr>\n",
       "    <tr>\n",
       "      <th>20</th>\n",
       "      <td>Source_Kolkata</td>\n",
       "      <td>0.0</td>\n",
       "    </tr>\n",
       "    <tr>\n",
       "      <th>21</th>\n",
       "      <td>Source_Mumbai</td>\n",
       "      <td>0.0</td>\n",
       "    </tr>\n",
       "    <tr>\n",
       "      <th>22</th>\n",
       "      <td>Destination_Banglore</td>\n",
       "      <td>0.005712</td>\n",
       "    </tr>\n",
       "    <tr>\n",
       "      <th>23</th>\n",
       "      <td>Destination_Cochin</td>\n",
       "      <td>0.0</td>\n",
       "    </tr>\n",
       "    <tr>\n",
       "      <th>24</th>\n",
       "      <td>Destination_Delhi</td>\n",
       "      <td>0.0</td>\n",
       "    </tr>\n",
       "    <tr>\n",
       "      <th>25</th>\n",
       "      <td>Destination_Hyderabad</td>\n",
       "      <td>0.0</td>\n",
       "    </tr>\n",
       "    <tr>\n",
       "      <th>26</th>\n",
       "      <td>Destination_Kolkata</td>\n",
       "      <td>0.000099</td>\n",
       "    </tr>\n",
       "    <tr>\n",
       "      <th>27</th>\n",
       "      <td>Additional_Info_Business class</td>\n",
       "      <td>0.0</td>\n",
       "    </tr>\n",
       "    <tr>\n",
       "      <th>28</th>\n",
       "      <td>Additional_Info_In-flight meal not included</td>\n",
       "      <td>0.103953</td>\n",
       "    </tr>\n",
       "    <tr>\n",
       "      <th>29</th>\n",
       "      <td>Additional_Info_No check-in baggage included</td>\n",
       "      <td>0.0</td>\n",
       "    </tr>\n",
       "    <tr>\n",
       "      <th>30</th>\n",
       "      <td>Additional_Info_Red-eye flight</td>\n",
       "      <td>0.0</td>\n",
       "    </tr>\n",
       "  </tbody>\n",
       "</table>\n",
       "</div>"
      ],
      "text/plain": [
       "                                               0         1\n",
       "0                                       Dep_Time  0.004698\n",
       "1                                       Duration  0.584213\n",
       "2                                    Total_Stops  0.029535\n",
       "3                                            Day  0.076137\n",
       "4                                          Month  0.069716\n",
       "5                               Airline_Air Asia  0.000075\n",
       "6                              Airline_Air India  0.004296\n",
       "7                                  Airline_GoAir       0.0\n",
       "8                                 Airline_IndiGo  0.003241\n",
       "9                            Airline_Jet Airways   0.06759\n",
       "10                  Airline_Jet Airways Business       0.0\n",
       "11                     Airline_Multiple carriers  0.020426\n",
       "12     Airline_Multiple carriers Premium economy       0.0\n",
       "13                              Airline_SpiceJet  0.000604\n",
       "14                                Airline_Trujet       0.0\n",
       "15                               Airline_Vistara  0.002788\n",
       "16               Airline_Vistara Premium economy       0.0\n",
       "17                               Source_Banglore  0.026916\n",
       "18                                Source_Chennai       0.0\n",
       "19                                  Source_Delhi       0.0\n",
       "20                                Source_Kolkata       0.0\n",
       "21                                 Source_Mumbai       0.0\n",
       "22                          Destination_Banglore  0.005712\n",
       "23                            Destination_Cochin       0.0\n",
       "24                             Destination_Delhi       0.0\n",
       "25                         Destination_Hyderabad       0.0\n",
       "26                           Destination_Kolkata  0.000099\n",
       "27                Additional_Info_Business class       0.0\n",
       "28   Additional_Info_In-flight meal not included  0.103953\n",
       "29  Additional_Info_No check-in baggage included       0.0\n",
       "30                Additional_Info_Red-eye flight       0.0"
      ]
     },
     "execution_count": 487,
     "metadata": {},
     "output_type": "execute_result"
    }
   ],
   "source": [
    "col=pd.DataFrame([cols,model.feature_importances_]).T\n",
    "col"
   ]
  },
  {
   "cell_type": "code",
   "execution_count": 443,
   "id": "6d2d77fd",
   "metadata": {},
   "outputs": [
    {
     "data": {
      "text/html": [
       "<div>\n",
       "<style scoped>\n",
       "    .dataframe tbody tr th:only-of-type {\n",
       "        vertical-align: middle;\n",
       "    }\n",
       "\n",
       "    .dataframe tbody tr th {\n",
       "        vertical-align: top;\n",
       "    }\n",
       "\n",
       "    .dataframe thead th {\n",
       "        text-align: right;\n",
       "    }\n",
       "</style>\n",
       "<table border=\"1\" class=\"dataframe\">\n",
       "  <thead>\n",
       "    <tr style=\"text-align: right;\">\n",
       "      <th></th>\n",
       "      <th>0</th>\n",
       "      <th>1</th>\n",
       "    </tr>\n",
       "  </thead>\n",
       "  <tbody>\n",
       "    <tr>\n",
       "      <th>1</th>\n",
       "      <td>Duration</td>\n",
       "      <td>0.584213</td>\n",
       "    </tr>\n",
       "    <tr>\n",
       "      <th>28</th>\n",
       "      <td>Additional_Info_Business class</td>\n",
       "      <td>0.103953</td>\n",
       "    </tr>\n",
       "    <tr>\n",
       "      <th>3</th>\n",
       "      <td>Price</td>\n",
       "      <td>0.076137</td>\n",
       "    </tr>\n",
       "    <tr>\n",
       "      <th>4</th>\n",
       "      <td>Day</td>\n",
       "      <td>0.069716</td>\n",
       "    </tr>\n",
       "    <tr>\n",
       "      <th>9</th>\n",
       "      <td>Airline_IndiGo</td>\n",
       "      <td>0.06759</td>\n",
       "    </tr>\n",
       "    <tr>\n",
       "      <th>2</th>\n",
       "      <td>Total_Stops</td>\n",
       "      <td>0.029535</td>\n",
       "    </tr>\n",
       "    <tr>\n",
       "      <th>24</th>\n",
       "      <td>Destination_Cochin</td>\n",
       "      <td>0.024892</td>\n",
       "    </tr>\n",
       "    <tr>\n",
       "      <th>11</th>\n",
       "      <td>Airline_Jet Airways Business</td>\n",
       "      <td>0.020426</td>\n",
       "    </tr>\n",
       "    <tr>\n",
       "      <th>0</th>\n",
       "      <td>Dep_Time</td>\n",
       "      <td>0.004698</td>\n",
       "    </tr>\n",
       "    <tr>\n",
       "      <th>6</th>\n",
       "      <td>Airline_Air Asia</td>\n",
       "      <td>0.004296</td>\n",
       "    </tr>\n",
       "    <tr>\n",
       "      <th>19</th>\n",
       "      <td>Source_Chennai</td>\n",
       "      <td>0.00335</td>\n",
       "    </tr>\n",
       "    <tr>\n",
       "      <th>8</th>\n",
       "      <td>Airline_GoAir</td>\n",
       "      <td>0.003241</td>\n",
       "    </tr>\n",
       "    <tr>\n",
       "      <th>15</th>\n",
       "      <td>Airline_Trujet</td>\n",
       "      <td>0.002788</td>\n",
       "    </tr>\n",
       "    <tr>\n",
       "      <th>20</th>\n",
       "      <td>Source_Delhi</td>\n",
       "      <td>0.00217</td>\n",
       "    </tr>\n",
       "    <tr>\n",
       "      <th>17</th>\n",
       "      <td>Airline_Vistara Premium economy</td>\n",
       "      <td>0.002025</td>\n",
       "    </tr>\n",
       "    <tr>\n",
       "      <th>13</th>\n",
       "      <td>Airline_Multiple carriers Premium economy</td>\n",
       "      <td>0.000604</td>\n",
       "    </tr>\n",
       "    <tr>\n",
       "      <th>22</th>\n",
       "      <td>Source_Mumbai</td>\n",
       "      <td>0.000191</td>\n",
       "    </tr>\n",
       "    <tr>\n",
       "      <th>18</th>\n",
       "      <td>Source_Banglore</td>\n",
       "      <td>0.000099</td>\n",
       "    </tr>\n",
       "    <tr>\n",
       "      <th>5</th>\n",
       "      <td>Month</td>\n",
       "      <td>0.000075</td>\n",
       "    </tr>\n",
       "    <tr>\n",
       "      <th>16</th>\n",
       "      <td>Airline_Vistara</td>\n",
       "      <td>0.0</td>\n",
       "    </tr>\n",
       "    <tr>\n",
       "      <th>10</th>\n",
       "      <td>Airline_Jet Airways</td>\n",
       "      <td>0.0</td>\n",
       "    </tr>\n",
       "    <tr>\n",
       "      <th>12</th>\n",
       "      <td>Airline_Multiple carriers</td>\n",
       "      <td>0.0</td>\n",
       "    </tr>\n",
       "    <tr>\n",
       "      <th>21</th>\n",
       "      <td>Source_Kolkata</td>\n",
       "      <td>0.0</td>\n",
       "    </tr>\n",
       "    <tr>\n",
       "      <th>14</th>\n",
       "      <td>Airline_SpiceJet</td>\n",
       "      <td>0.0</td>\n",
       "    </tr>\n",
       "    <tr>\n",
       "      <th>23</th>\n",
       "      <td>Destination_Banglore</td>\n",
       "      <td>0.0</td>\n",
       "    </tr>\n",
       "    <tr>\n",
       "      <th>7</th>\n",
       "      <td>Airline_Air India</td>\n",
       "      <td>0.0</td>\n",
       "    </tr>\n",
       "    <tr>\n",
       "      <th>25</th>\n",
       "      <td>Destination_Delhi</td>\n",
       "      <td>0.0</td>\n",
       "    </tr>\n",
       "    <tr>\n",
       "      <th>26</th>\n",
       "      <td>Destination_Hyderabad</td>\n",
       "      <td>0.0</td>\n",
       "    </tr>\n",
       "    <tr>\n",
       "      <th>27</th>\n",
       "      <td>Destination_Kolkata</td>\n",
       "      <td>0.0</td>\n",
       "    </tr>\n",
       "    <tr>\n",
       "      <th>29</th>\n",
       "      <td>Additional_Info_In-flight meal not included</td>\n",
       "      <td>0.0</td>\n",
       "    </tr>\n",
       "    <tr>\n",
       "      <th>30</th>\n",
       "      <td>Additional_Info_No check-in baggage included</td>\n",
       "      <td>0.0</td>\n",
       "    </tr>\n",
       "    <tr>\n",
       "      <th>31</th>\n",
       "      <td>Additional_Info_Red-eye flight</td>\n",
       "      <td>None</td>\n",
       "    </tr>\n",
       "  </tbody>\n",
       "</table>\n",
       "</div>"
      ],
      "text/plain": [
       "                                               0         1\n",
       "1                                       Duration  0.584213\n",
       "28                Additional_Info_Business class  0.103953\n",
       "3                                          Price  0.076137\n",
       "4                                            Day  0.069716\n",
       "9                                 Airline_IndiGo   0.06759\n",
       "2                                    Total_Stops  0.029535\n",
       "24                            Destination_Cochin  0.024892\n",
       "11                  Airline_Jet Airways Business  0.020426\n",
       "0                                       Dep_Time  0.004698\n",
       "6                               Airline_Air Asia  0.004296\n",
       "19                                Source_Chennai   0.00335\n",
       "8                                  Airline_GoAir  0.003241\n",
       "15                                Airline_Trujet  0.002788\n",
       "20                                  Source_Delhi   0.00217\n",
       "17               Airline_Vistara Premium economy  0.002025\n",
       "13     Airline_Multiple carriers Premium economy  0.000604\n",
       "22                                 Source_Mumbai  0.000191\n",
       "18                               Source_Banglore  0.000099\n",
       "5                                          Month  0.000075\n",
       "16                               Airline_Vistara       0.0\n",
       "10                           Airline_Jet Airways       0.0\n",
       "12                     Airline_Multiple carriers       0.0\n",
       "21                                Source_Kolkata       0.0\n",
       "14                              Airline_SpiceJet       0.0\n",
       "23                          Destination_Banglore       0.0\n",
       "7                              Airline_Air India       0.0\n",
       "25                             Destination_Delhi       0.0\n",
       "26                         Destination_Hyderabad       0.0\n",
       "27                           Destination_Kolkata       0.0\n",
       "29   Additional_Info_In-flight meal not included       0.0\n",
       "30  Additional_Info_No check-in baggage included       0.0\n",
       "31                Additional_Info_Red-eye flight      None"
      ]
     },
     "execution_count": 443,
     "metadata": {},
     "output_type": "execute_result"
    }
   ],
   "source": [
    "col.sort_values(by=1, ascending=False)"
   ]
  },
  {
   "cell_type": "code",
   "execution_count": 444,
   "id": "a3f59c25",
   "metadata": {},
   "outputs": [
    {
     "data": {
      "text/plain": [
       "(0.7276689286676239, 0.7055943006759443)"
      ]
     },
     "execution_count": 444,
     "metadata": {},
     "output_type": "execute_result"
    }
   ],
   "source": [
    "model.score(X_train,y_train),model.score(X_val,y_val)  # checking r2 scores"
   ]
  },
  {
   "cell_type": "code",
   "execution_count": 445,
   "id": "c7b7879e",
   "metadata": {},
   "outputs": [
    {
     "data": {
      "text/plain": [
       "RandomForestRegressor(max_depth=6)"
      ]
     },
     "execution_count": 445,
     "metadata": {},
     "output_type": "execute_result"
    }
   ],
   "source": [
    "model = RandomForestRegressor(max_depth=6)\n",
    "model.fit(X_train,y_train)"
   ]
  },
  {
   "cell_type": "code",
   "execution_count": 446,
   "id": "df96f70c",
   "metadata": {},
   "outputs": [
    {
     "data": {
      "text/plain": [
       "(0.8126388008655575, 0.8238528291089339)"
      ]
     },
     "execution_count": 446,
     "metadata": {},
     "output_type": "execute_result"
    }
   ],
   "source": [
    "model.score(X_train,y_train),model.score(X_val,y_val)"
   ]
  },
  {
   "cell_type": "code",
   "execution_count": 448,
   "id": "b05f5559",
   "metadata": {},
   "outputs": [],
   "source": [
    "# Checking the best random sampling for training se\n",
    "for i in range(20):\n",
    "    X_train, X_test, y_train, y_test  = train_test_split(X, y, test_size=0.2, random_state=1)\n",
    "    X_train, X_val, y_train, y_val = train_test_split(X_train, y_train, test_size=0.25, random_state=i)\n",
    "    model = RandomForestRegressor(n_estimators=5,max_depth=10)\n",
    "    model.fit(X_train,y_train)\n",
    "    if (model.score(X_train,y_train)<model.score(X_val,y_val)):\n",
    "        print(i, model.score(X_train,y_train),model.score(X_val,y_val))"
   ]
  },
  {
   "cell_type": "code",
   "execution_count": 449,
   "id": "09e6f7cb",
   "metadata": {},
   "outputs": [
    {
     "data": {
      "text/plain": [
       "RandomForestRegressor(max_depth=7, n_estimators=15)"
      ]
     },
     "execution_count": 449,
     "metadata": {},
     "output_type": "execute_result"
    }
   ],
   "source": [
    "X_train, X_test, y_train, y_test  = train_test_split(X, y, test_size=0.2, random_state=1)\n",
    "X_train, X_val, y_train, y_val = train_test_split(X_train, y_train, test_size=0.25, random_state=18)\n",
    "model = RandomForestRegressor(n_estimators=15,max_depth=7)\n",
    "model.fit(X_train,y_train)"
   ]
  },
  {
   "cell_type": "code",
   "execution_count": 450,
   "id": "3db7868a",
   "metadata": {},
   "outputs": [
    {
     "data": {
      "text/plain": [
       "(0.850544387396594, 0.8481808400809353)"
      ]
     },
     "execution_count": 450,
     "metadata": {},
     "output_type": "execute_result"
    }
   ],
   "source": [
    "model.score(X_train,y_train),model.score(X_val,y_val)"
   ]
  },
  {
   "cell_type": "code",
   "execution_count": 482,
   "id": "709024c6",
   "metadata": {
    "scrolled": true
   },
   "outputs": [],
   "source": [
    "model.predict(final_test.iloc[:,df.columns.values!=\"Price\"].values)\n",
    "data_o_test=df.iloc[train_len:,df.columns.values!=\"Price\"]"
   ]
  },
  {
   "cell_type": "code",
   "execution_count": 483,
   "id": "720573db",
   "metadata": {},
   "outputs": [],
   "source": [
    "data_o_test['Price_predicted']=model.predict(final_test.iloc[:,df.columns.values!=\"Price\"].values)"
   ]
  },
  {
   "cell_type": "code",
   "execution_count": 484,
   "id": "5d35ff42",
   "metadata": {},
   "outputs": [
    {
     "data": {
      "text/html": [
       "<div>\n",
       "<style scoped>\n",
       "    .dataframe tbody tr th:only-of-type {\n",
       "        vertical-align: middle;\n",
       "    }\n",
       "\n",
       "    .dataframe tbody tr th {\n",
       "        vertical-align: top;\n",
       "    }\n",
       "\n",
       "    .dataframe thead th {\n",
       "        text-align: right;\n",
       "    }\n",
       "</style>\n",
       "<table border=\"1\" class=\"dataframe\">\n",
       "  <thead>\n",
       "    <tr style=\"text-align: right;\">\n",
       "      <th></th>\n",
       "      <th>Dep_Time</th>\n",
       "      <th>Duration</th>\n",
       "      <th>Total_Stops</th>\n",
       "      <th>Day</th>\n",
       "      <th>Month</th>\n",
       "      <th>Airline_Air Asia</th>\n",
       "      <th>Airline_Air India</th>\n",
       "      <th>Airline_GoAir</th>\n",
       "      <th>Airline_IndiGo</th>\n",
       "      <th>Airline_Jet Airways</th>\n",
       "      <th>...</th>\n",
       "      <th>Destination_Banglore</th>\n",
       "      <th>Destination_Cochin</th>\n",
       "      <th>Destination_Delhi</th>\n",
       "      <th>Destination_Hyderabad</th>\n",
       "      <th>Destination_Kolkata</th>\n",
       "      <th>Additional_Info_Business class</th>\n",
       "      <th>Additional_Info_In-flight meal not included</th>\n",
       "      <th>Additional_Info_No check-in baggage included</th>\n",
       "      <th>Additional_Info_Red-eye flight</th>\n",
       "      <th>Price_predicted</th>\n",
       "    </tr>\n",
       "  </thead>\n",
       "  <tbody>\n",
       "    <tr>\n",
       "      <th>12484</th>\n",
       "      <td>5.75</td>\n",
       "      <td>450.0</td>\n",
       "      <td>1</td>\n",
       "      <td>1</td>\n",
       "      <td>3</td>\n",
       "      <td>0</td>\n",
       "      <td>0</td>\n",
       "      <td>0</td>\n",
       "      <td>0</td>\n",
       "      <td>0</td>\n",
       "      <td>...</td>\n",
       "      <td>0</td>\n",
       "      <td>0</td>\n",
       "      <td>1</td>\n",
       "      <td>0</td>\n",
       "      <td>0</td>\n",
       "      <td>1</td>\n",
       "      <td>0</td>\n",
       "      <td>0</td>\n",
       "      <td>0</td>\n",
       "      <td>15604.464646</td>\n",
       "    </tr>\n",
       "  </tbody>\n",
       "</table>\n",
       "<p>1 rows × 32 columns</p>\n",
       "</div>"
      ],
      "text/plain": [
       "       Dep_Time  Duration  Total_Stops  Day  Month  Airline_Air Asia  \\\n",
       "12484      5.75     450.0            1    1      3                 0   \n",
       "\n",
       "       Airline_Air India  Airline_GoAir  Airline_IndiGo  Airline_Jet Airways  \\\n",
       "12484                  0              0               0                    0   \n",
       "\n",
       "       ...  Destination_Banglore  Destination_Cochin  Destination_Delhi  \\\n",
       "12484  ...                     0                   0                  1   \n",
       "\n",
       "       Destination_Hyderabad  Destination_Kolkata  \\\n",
       "12484                      0                    0   \n",
       "\n",
       "       Additional_Info_Business class  \\\n",
       "12484                               1   \n",
       "\n",
       "       Additional_Info_In-flight meal not included  \\\n",
       "12484                                            0   \n",
       "\n",
       "       Additional_Info_No check-in baggage included  \\\n",
       "12484                                             0   \n",
       "\n",
       "       Additional_Info_Red-eye flight  Price_predicted  \n",
       "12484                               0     15604.464646  \n",
       "\n",
       "[1 rows x 32 columns]"
      ]
     },
     "execution_count": 484,
     "metadata": {},
     "output_type": "execute_result"
    }
   ],
   "source": [
    "# to just eyeball how the model is predicting \n",
    "data_o_test[data_o_test['Additional_Info_Business class']==1]"
   ]
  },
  {
   "cell_type": "code",
   "execution_count": 454,
   "id": "06bc2dc2",
   "metadata": {},
   "outputs": [],
   "source": [
    "from sklearn import metrics\n",
    "\n",
    "def predict(ml_model,dump=0):\n",
    "    \n",
    "    model=ml_model.fit(X_train,y_train)\n",
    "    print('Training score : {}'.format(model.score(X_train,y_train)))\n",
    "    y_prediction=model.predict(X_val)\n",
    "    print('predictions are: \\n {}'.format(y_prediction))\n",
    "    print('\\n')\n",
    "    r2_score=metrics.r2_score(y_val,y_prediction)\n",
    "    print('r2 score: {}'.format(r2_score))\n",
    "    print('MAE:',metrics.mean_absolute_error(y_val,y_prediction))\n",
    "    print('MSE:',metrics.mean_squared_error(y_val,y_prediction))\n",
    "    print('RMSE:',np.sqrt(metrics.mean_squared_error(y_val,y_prediction)))\n",
    "    sns.distplot(y_val-y_prediction)\n",
    "    \n",
    "    if dump==1:\n",
    "        ##dump your model using pickle so that we will re-use\n",
    "        file=open('E:\\End-2-end Projects\\Flight_Price/model.pkl','wb')\n",
    "        pickle.dump(model,file)"
   ]
  },
  {
   "cell_type": "code",
   "execution_count": 455,
   "id": "eda943a8",
   "metadata": {},
   "outputs": [],
   "source": [
    "model = RandomForestRegressor(n_estimators=15,max_depth=16, min_samples_leaf=30)"
   ]
  },
  {
   "cell_type": "code",
   "execution_count": 456,
   "id": "2dc7162f",
   "metadata": {},
   "outputs": [
    {
     "name": "stdout",
     "output_type": "stream",
     "text": [
      "Training score : 0.7546102475214826\n",
      "predictions are: \n",
      " [ 7491.1784943  14022.20911945  3893.55839932 ... 10993.37495849\n",
      "  9736.29011653 14096.69867928]\n",
      "\n",
      "\n",
      "r2 score: 0.7398999049829867\n",
      "MAE: 1250.798062807658\n",
      "MSE: 5754972.119291534\n",
      "RMSE: 2398.9522961683783\n"
     ]
    },
    {
     "name": "stderr",
     "output_type": "stream",
     "text": [
      "C:\\Users\\shris\\anaconda3\\lib\\site-packages\\seaborn\\distributions.py:2557: FutureWarning: `distplot` is a deprecated function and will be removed in a future version. Please adapt your code to use either `displot` (a figure-level function with similar flexibility) or `histplot` (an axes-level function for histograms).\n",
      "  warnings.warn(msg, FutureWarning)\n"
     ]
    },
    {
     "data": {
      "image/png": "[encoded data removed]",
      "text/plain": [
       "<Figure size 432x288 with 1 Axes>"
      ]
     },
     "metadata": {
      "needs_background": "light"
     },
     "output_type": "display_data"
    }
   ],
   "source": [
    "predict(model)"
   ]
  },
  {
   "cell_type": "code",
   "execution_count": 458,
   "id": "a786c3d7",
   "metadata": {},
   "outputs": [
    {
     "name": "stdout",
     "output_type": "stream",
     "text": [
      "Training score : 0.7276689286676239\n",
      "predictions are: \n",
      " [ 7154.58163265 14292.67307692  3812.83018868 ... 11351.93589744\n",
      "  9302.40909091 14304.17333333]\n",
      "\n",
      "\n",
      "r2 score: 0.7055943006759443\n",
      "MAE: 1339.9130243869165\n",
      "MSE: 6514017.579500086\n",
      "RMSE: 2552.2573497788358\n"
     ]
    },
    {
     "name": "stderr",
     "output_type": "stream",
     "text": [
      "C:\\Users\\shris\\anaconda3\\lib\\site-packages\\seaborn\\distributions.py:2557: FutureWarning: `distplot` is a deprecated function and will be removed in a future version. Please adapt your code to use either `displot` (a figure-level function with similar flexibility) or `histplot` (an axes-level function for histograms).\n",
      "  warnings.warn(msg, FutureWarning)\n"
     ]
    },
    {
     "data": {
      "image/png": "[encoded data removed]",
      "text/plain": [
       "<Figure size 432x288 with 1 Axes>"
      ]
     },
     "metadata": {
      "needs_background": "light"
     },
     "output_type": "display_data"
    }
   ],
   "source": [
    "model = DecisionTreeRegressor(max_depth=16,min_samples_leaf=50)\n",
    "predict(model)"
   ]
  },
  {
   "cell_type": "markdown",
   "id": "d18deec2",
   "metadata": {},
   "source": [
    "### RandomSearchCV for random forest "
   ]
  },
  {
   "cell_type": "code",
   "execution_count": 75,
   "id": "7950e890",
   "metadata": {},
   "outputs": [],
   "source": [
    "# Number of trees in random forest\n",
    "n_estimators=[int(x) for x in np.linspace(start=100,stop=1200,num=6)]\n",
    "\n",
    "# Number of features to consider at every split\n",
    "max_features=['auto','sqrt']\n",
    "\n",
    "# Maximum number of levels in tree\n",
    "max_depth=[int(x) for x in np.linspace(5,30,num=4)]\n",
    "\n",
    "# Minimum number of samples required to split a node\n",
    "min_samples_split=[5,10,15,100]"
   ]
  },
  {
   "cell_type": "code",
   "execution_count": 463,
   "id": "826c76c1",
   "metadata": {},
   "outputs": [],
   "source": [
    "# Create the random grid\n",
    "\n",
    "random_grid={\n",
    "    'n_estimators':n_estimators,\n",
    "    'max_features':max_features,\n",
    "'max_depth':max_depth,\n",
    "    'min_samples_split':min_samples_split\n",
    "}"
   ]
  },
  {
   "cell_type": "code",
   "execution_count": 464,
   "id": "bb7748c7",
   "metadata": {},
   "outputs": [],
   "source": [
    "### initialise your estimator\n",
    "reg_rf=RandomForestRegressor()"
   ]
  },
  {
   "cell_type": "code",
   "execution_count": 465,
   "id": "0ac2d94f",
   "metadata": {},
   "outputs": [],
   "source": [
    "# Random search of parameters, using 3 fold cross validation\n",
    "\n",
    "rf_random=RandomizedSearchCV(estimator=reg_rf,param_distributions=random_grid,cv=5,verbose=2,n_jobs=-1)"
   ]
  },
  {
   "cell_type": "code",
   "execution_count": 466,
   "id": "6a25b759",
   "metadata": {},
   "outputs": [
    {
     "name": "stdout",
     "output_type": "stream",
     "text": [
      "Fitting 5 folds for each of 10 candidates, totalling 50 fits\n"
     ]
    },
    {
     "data": {
      "text/plain": [
       "RandomizedSearchCV(cv=5, estimator=RandomForestRegressor(), n_jobs=-1,\n",
       "                   param_distributions={'max_depth': [5, 13, 21, 30],\n",
       "                                        'max_features': ['auto', 'sqrt'],\n",
       "                                        'min_samples_split': [5, 10, 15, 100],\n",
       "                                        'n_estimators': [100, 320, 540, 760,\n",
       "                                                         980, 1200]},\n",
       "                   verbose=2)"
      ]
     },
     "execution_count": 466,
     "metadata": {},
     "output_type": "execute_result"
    }
   ],
   "source": [
    "rf_random.fit(X_train,y_train)"
   ]
  },
  {
   "cell_type": "code",
   "execution_count": 467,
   "id": "41ff1045",
   "metadata": {},
   "outputs": [
    {
     "data": {
      "text/plain": [
       "{'n_estimators': 980,\n",
       " 'min_samples_split': 5,\n",
       " 'max_features': 'auto',\n",
       " 'max_depth': 30}"
      ]
     },
     "execution_count": 467,
     "metadata": {},
     "output_type": "execute_result"
    }
   ],
   "source": [
    "rf_random.best_params_"
   ]
  },
  {
   "cell_type": "code",
   "execution_count": 468,
   "id": "930c7d38",
   "metadata": {},
   "outputs": [],
   "source": [
    "prediction=rf_random.predict(X_val)"
   ]
  },
  {
   "cell_type": "code",
   "execution_count": 469,
   "id": "c8b0bc01",
   "metadata": {},
   "outputs": [
    {
     "name": "stderr",
     "output_type": "stream",
     "text": [
      "C:\\Users\\shris\\anaconda3\\lib\\site-packages\\seaborn\\distributions.py:2557: FutureWarning: `distplot` is a deprecated function and will be removed in a future version. Please adapt your code to use either `displot` (a figure-level function with similar flexibility) or `histplot` (an axes-level function for histograms).\n",
      "  warnings.warn(msg, FutureWarning)\n"
     ]
    },
    {
     "data": {
      "text/plain": [
       "<AxesSubplot:ylabel='Density'>"
      ]
     },
     "execution_count": 469,
     "metadata": {},
     "output_type": "execute_result"
    },
    {
     "data": {
      "image/png": "[encoded data removed]",
      "text/plain": [
       "<Figure size 432x288 with 1 Axes>"
      ]
     },
     "metadata": {
      "needs_background": "light"
     },
     "output_type": "display_data"
    }
   ],
   "source": [
    "sns.distplot(y_val-prediction)"
   ]
  },
  {
   "cell_type": "code",
   "execution_count": 477,
   "id": "34399eb1",
   "metadata": {},
   "outputs": [
    {
     "data": {
      "text/plain": [
       "-0.793776103707815"
      ]
     },
     "execution_count": 477,
     "metadata": {},
     "output_type": "execute_result"
    }
   ],
   "source": [
    "metrics.r2_score(y_val,prediction)"
   ]
  },
  {
   "cell_type": "code",
   "execution_count": 478,
   "id": "da937a11",
   "metadata": {},
   "outputs": [
    {
     "name": "stdout",
     "output_type": "stream",
     "text": [
      "MAE 770.0131807882253\n",
      "MSE 2487532.1282594977\n",
      "RMSE 1577.191214868856\n"
     ]
    }
   ],
   "source": [
    "print('MAE',metrics.mean_absolute_error(y_test,prediction))\n",
    "print('MSE',metrics.mean_squared_error(y_test,prediction))\n",
    "print('RMSE',np.sqrt(metrics.mean_squared_error(y_test,prediction)))"
   ]
  },
  {
   "cell_type": "code",
   "execution_count": 479,
   "id": "915131da",
   "metadata": {},
   "outputs": [
    {
     "data": {
      "text/plain": [
       "0.8987944301503203"
      ]
     },
     "execution_count": 479,
     "metadata": {},
     "output_type": "execute_result"
    }
   ],
   "source": [
    "rf_random.score(X_val,y_val)"
   ]
  },
  {
   "cell_type": "code",
   "execution_count": 480,
   "id": "0dc7457a",
   "metadata": {},
   "outputs": [
    {
     "data": {
      "text/plain": [
       "0.8787202147448584"
      ]
     },
     "execution_count": 480,
     "metadata": {},
     "output_type": "execute_result"
    }
   ],
   "source": [
    "rf_random.score(X_test,y_test)"
   ]
  },
  {
   "cell_type": "code",
   "execution_count": 481,
   "id": "55122aba",
   "metadata": {},
   "outputs": [],
   "source": [
    "prediction=rf_random.predict(X_test)"
   ]
  },
  {
   "cell_type": "code",
   "execution_count": 475,
   "id": "7691cc36",
   "metadata": {},
   "outputs": [
    {
     "data": {
      "text/plain": [
       "0.8787202147448584"
      ]
     },
     "execution_count": 475,
     "metadata": {},
     "output_type": "execute_result"
    }
   ],
   "source": [
    "metrics.r2_score(y_test,prediction)  # this is best with non linear models "
   ]
  },
  {
   "cell_type": "code",
   "execution_count": null,
   "id": "af3a1633",
   "metadata": {},
   "outputs": [],
   "source": []
  },
  {
   "cell_type": "code",
   "execution_count": null,
   "id": "ab8573d2",
   "metadata": {},
   "outputs": [],
   "source": []
  }
 ],
 "metadata": {
  "kernelspec": {
   "display_name": "Python 3",
   "language": "python",
   "name": "python3"
  },
  "language_info": {
   "codemirror_mode": {
    "name": "ipython",
    "version": 3
   },
   "file_extension": ".py",
   "mimetype": "text/x-python",
   "name": "python",
   "nbconvert_exporter": "python",
   "pygments_lexer": "ipython3",
   "version": "3.8.8"
  }
 },
 "nbformat": 4,
 "nbformat_minor": 5
}
